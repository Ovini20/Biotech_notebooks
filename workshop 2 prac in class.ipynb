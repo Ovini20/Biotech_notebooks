{
 "cells": [
  {
   "cell_type": "code",
   "execution_count": 2,
   "id": "916fa2c1-50f6-4f1b-9d5e-22bb01c0c72b",
   "metadata": {},
   "outputs": [],
   "source": [
    "import os"
   ]
  },
  {
   "cell_type": "code",
   "execution_count": 4,
   "id": "e7073c1b-312d-4d11-a521-55bb610a826d",
   "metadata": {},
   "outputs": [
    {
     "data": {
      "text/plain": [
       "['.849C9593-D756-4E56-8D6E-42412F2A707B',\n",
       " '.ipynb_checkpoints',\n",
       " '1. Gene editing and genome editing.docx',\n",
       " '1462437.pdf',\n",
       " '2. CAS9 Genome Engineering.docx',\n",
       " '2nd represilator.cps',\n",
       " '3. Synthetic Genomes.docx',\n",
       " 'AbstractThe activation of T cells involves a complicated mec.docx',\n",
       " 'Abstract\\xa0\\xa0The activation of T cells involves\\xa0 a complicated.docx',\n",
       " 'advanced biotech.xlsx',\n",
       " 'Alternative Splicing - Part 1.docx',\n",
       " 'Alternative Splicing - Part 2.docx',\n",
       " 'Apps',\n",
       " 'Attachments',\n",
       " 'biotech data.xlsx',\n",
       " 'Biotech exam.docx',\n",
       " 'Biotech practical notes.docx',\n",
       " 'BP tutoring programme.docx',\n",
       " 'bradford assay.xlsx',\n",
       " 'BT5014 Data handling report template- 2023-24 (AutoRecovered).docx',\n",
       " 'BT5014 GFP results Octo 2024.xlsx',\n",
       " 'BT5014.docx',\n",
       " 'Buffer.docx',\n",
       " 'CFTR mutations.docx',\n",
       " 'Comparing and contrasting the use of primary cells with established.docx',\n",
       " 'Computer Workshop instruction notes.docx',\n",
       " 'Course Feedback for 2024-2025.xlsx',\n",
       " 'desktop.ini',\n",
       " 'DNA analysis presentation 1_computer workshop.pptx',\n",
       " 'Document 1.docx',\n",
       " 'Document.docx',\n",
       " 'elowitz and leiber 2000.pdf',\n",
       " 'Enzyme Kinetics.docx',\n",
       " 'Experimental Design Report template_2022(3).docx',\n",
       " 'feedback.docx',\n",
       " 'group review.docx',\n",
       " 'Hill notes.docx',\n",
       " 'immuno report.docx',\n",
       " 'immuno.docx',\n",
       " 'MB5025 - 52426226.docx',\n",
       " 'micro.docx',\n",
       " 'mRNA1.ipynb',\n",
       " 'mRNA2.ipynb',\n",
       " 'Mutations.docx',\n",
       " 'Notebooks',\n",
       " 'PAPER DISCUSSION.docx',\n",
       " 'part b - degp.docx',\n",
       " 'programming.docx',\n",
       " 'purity.xlsx',\n",
       " 'Repressilator.cps',\n",
       " 'Research perspective.docx',\n",
       " 'RF.xlsx',\n",
       " 'Scans',\n",
       " 'Scientific Writing - Molecular Genetics.docx',\n",
       " 'SDS.xlsx',\n",
       " 'Section A.docx',\n",
       " 'Some questions to think about.docx',\n",
       " 'Thesis_final.docx',\n",
       " 'TOR.docx',\n",
       " 'Untitled.ipynb',\n",
       " 'Untitled1.ipynb',\n",
       " 'Videos',\n",
       " 'What to include in research perspective.docx',\n",
       " 'Workshop 1 - An introduction to Python programming.html',\n",
       " 'Workshop 1 - An introduction to Python programming.ipynb',\n",
       " 'Workshop 1 prac.ipynb',\n",
       " 'Workshop 2 - Next steps in Python programming.html']"
      ]
     },
     "execution_count": 4,
     "metadata": {},
     "output_type": "execute_result"
    }
   ],
   "source": [
    "os.listdir()"
   ]
  },
  {
   "cell_type": "code",
   "execution_count": 6,
   "id": "fae441c8-e885-4200-a86e-df19d90ea1b9",
   "metadata": {},
   "outputs": [
    {
     "data": {
      "text/plain": [
       "True"
      ]
     },
     "execution_count": 6,
     "metadata": {},
     "output_type": "execute_result"
    }
   ],
   "source": [
    "os.path.exists(\"/\")"
   ]
  },
  {
   "cell_type": "code",
   "execution_count": 8,
   "id": "8f28d41d-12c7-4bed-9604-1ed19b57c60a",
   "metadata": {},
   "outputs": [
    {
     "name": "stdout",
     "output_type": "stream",
     "text": [
      "Help on function exists in module genericpath:\n",
      "\n",
      "exists(path)\n",
      "    Test whether a path exists.  Returns False for broken symbolic links\n",
      "\n"
     ]
    }
   ],
   "source": [
    "help(os.path.exists)"
   ]
  },
  {
   "cell_type": "code",
   "execution_count": 10,
   "id": "8c28fdea-1766-4af9-84f1-46cbe0a28e5e",
   "metadata": {},
   "outputs": [
    {
     "name": "stdout",
     "output_type": "stream",
     "text": [
      "Help on built-in function listdir in module nt:\n",
      "\n",
      "listdir(path=None)\n",
      "    Return a list containing the names of the files in the directory.\n",
      "    \n",
      "    path can be specified as either str, bytes, or a path-like object.  If path is bytes,\n",
      "      the filenames returned will also be bytes; in all other circumstances\n",
      "      the filenames returned will be str.\n",
      "    If path is None, uses the path='.'.\n",
      "    On some platforms, path may also be specified as an open file descriptor;\\\n",
      "      the file descriptor must refer to a directory.\n",
      "      If this functionality is unavailable, using it raises NotImplementedError.\n",
      "    \n",
      "    The list is in arbitrary order.  It does not include the special\n",
      "    entries '.' and '..' even if they are present in the directory.\n",
      "\n"
     ]
    }
   ],
   "source": [
    "help(os.listdir)"
   ]
  },
  {
   "cell_type": "code",
   "execution_count": 12,
   "id": "ce548bdb-8e41-4699-9cd8-8b74befa5637",
   "metadata": {},
   "outputs": [],
   "source": [
    "import numpy as np #u can give it a nickname so you dont have to repeatedly write out the full form\n",
    "import pandas as pd"
   ]
  },
  {
   "cell_type": "code",
   "execution_count": 20,
   "id": "41e028e8-e1a6-4ffd-a0d8-fe8ba6a18b4e",
   "metadata": {},
   "outputs": [
    {
     "data": {
      "text/plain": [
       "'Mike'"
      ]
     },
     "execution_count": 20,
     "metadata": {},
     "output_type": "execute_result"
    }
   ],
   "source": [
    "myList = [\"Mike\", \"Ellie\", \"Kim\", \"Luna\"]\n",
    "myList[0] # note that Python is a 0-based language"
   ]
  },
  {
   "cell_type": "code",
   "execution_count": 24,
   "id": "556f3ae3-a81c-4671-9ee2-9ff3a6903232",
   "metadata": {},
   "outputs": [
    {
     "data": {
      "text/plain": [
       "['Ellie', 'Kim']"
      ]
     },
     "execution_count": 24,
     "metadata": {},
     "output_type": "execute_result"
    }
   ],
   "source": [
    "myList[1:3]\n",
    "# note that index 3 is NOT included and the '1' index is the 2nd element because Python starts counting at 0!"
   ]
  },
  {
   "cell_type": "code",
   "execution_count": 28,
   "id": "471365b8-733d-4f46-9876-0a1495ed146f",
   "metadata": {},
   "outputs": [
    {
     "data": {
      "text/plain": [
       "['Mike', 'Ellie', 'Kim']"
      ]
     },
     "execution_count": 28,
     "metadata": {},
     "output_type": "execute_result"
    }
   ],
   "source": [
    "myList[:3]"
   ]
  },
  {
   "cell_type": "code",
   "execution_count": 34,
   "id": "4e222b96-7ffd-4180-947e-69828b6cddf2",
   "metadata": {},
   "outputs": [
    {
     "data": {
      "text/plain": [
       "['Mike', 'Ellie', 'Kim']"
      ]
     },
     "execution_count": 34,
     "metadata": {},
     "output_type": "execute_result"
    }
   ],
   "source": [
    "myList[0:3]"
   ]
  },
  {
   "cell_type": "code",
   "execution_count": 36,
   "id": "2f055df5-7f3b-463d-9358-fc7b3dbe01b9",
   "metadata": {},
   "outputs": [
    {
     "data": {
      "text/plain": [
       "['Mike', 'Kim']"
      ]
     },
     "execution_count": 36,
     "metadata": {},
     "output_type": "execute_result"
    }
   ],
   "source": [
    "myList[::2] # the first 2 indices are empty, which just defaults to the first and last"
   ]
  },
  {
   "cell_type": "code",
   "execution_count": 38,
   "id": "562c1cea-fee3-402f-9b44-43149ae77ca7",
   "metadata": {},
   "outputs": [
    {
     "data": {
      "text/plain": [
       "['Mike', 'Ellie', 'Kim', 'Luna']"
      ]
     },
     "execution_count": 38,
     "metadata": {},
     "output_type": "execute_result"
    }
   ],
   "source": [
    "myList[::1]"
   ]
  },
  {
   "cell_type": "code",
   "execution_count": 40,
   "id": "1647bf02-a697-49f3-a7eb-699ef9bededa",
   "metadata": {},
   "outputs": [
    {
     "data": {
      "text/plain": [
       "['Mike', 'Luna']"
      ]
     },
     "execution_count": 40,
     "metadata": {},
     "output_type": "execute_result"
    }
   ],
   "source": [
    "myList[::3]"
   ]
  },
  {
   "cell_type": "code",
   "execution_count": 42,
   "id": "ec0c043d-7508-4334-8bb4-850c76fe0c93",
   "metadata": {},
   "outputs": [
    {
     "data": {
      "text/plain": [
       "'Luna'"
      ]
     },
     "execution_count": 42,
     "metadata": {},
     "output_type": "execute_result"
    }
   ],
   "source": [
    "myList[-1] # -ve sign tells to starts from the end, give us the last element of the list. here it starts from 1 not 0"
   ]
  },
  {
   "cell_type": "code",
   "execution_count": 44,
   "id": "16fe7923-6ffe-4f6d-a13a-fb54173a7a0c",
   "metadata": {},
   "outputs": [
    {
     "data": {
      "text/plain": [
       "'Kim'"
      ]
     },
     "execution_count": 44,
     "metadata": {},
     "output_type": "execute_result"
    }
   ],
   "source": [
    "myList[-2]"
   ]
  },
  {
   "cell_type": "code",
   "execution_count": 48,
   "id": "09218122-d3ae-4f13-8628-c40ba7c9a849",
   "metadata": {},
   "outputs": [
    {
     "ename": "IndexError",
     "evalue": "list index out of range",
     "output_type": "error",
     "traceback": [
      "\u001b[1;31m---------------------------------------------------------------------------\u001b[0m",
      "\u001b[1;31mIndexError\u001b[0m                                Traceback (most recent call last)",
      "Cell \u001b[1;32mIn[48], line 1\u001b[0m\n\u001b[1;32m----> 1\u001b[0m myList[\u001b[38;5;241m-\u001b[39m\u001b[38;5;241m5\u001b[39m]\n",
      "\u001b[1;31mIndexError\u001b[0m: list index out of range"
     ]
    }
   ],
   "source": [
    "myList[-5]"
   ]
  },
  {
   "cell_type": "code",
   "execution_count": 50,
   "id": "3d463bde-dfe9-41bd-b79a-25b61d33e08d",
   "metadata": {},
   "outputs": [
    {
     "data": {
      "text/plain": [
       "['Luna', 'Kim', 'Ellie', 'Mike']"
      ]
     },
     "execution_count": 50,
     "metadata": {},
     "output_type": "execute_result"
    }
   ],
   "source": [
    "myList[::-1]"
   ]
  },
  {
   "cell_type": "code",
   "execution_count": 54,
   "id": "94e5a865-13a0-4a39-ae62-1dad1e36c116",
   "metadata": {},
   "outputs": [
    {
     "data": {
      "text/plain": [
       "['Mike', 'Ellie', 'Kim', 'Luna']"
      ]
     },
     "execution_count": 54,
     "metadata": {},
     "output_type": "execute_result"
    }
   ],
   "source": [
    "myList[::]"
   ]
  },
  {
   "cell_type": "code",
   "execution_count": 56,
   "id": "f1e5e14b-9b8b-4f85-b955-588a47363d4b",
   "metadata": {},
   "outputs": [
    {
     "data": {
      "text/plain": [
       "['Luna', 'Ellie']"
      ]
     },
     "execution_count": 56,
     "metadata": {},
     "output_type": "execute_result"
    }
   ],
   "source": [
    "myList[::-2] # reverses but gives every 2nd element"
   ]
  },
  {
   "cell_type": "code",
   "execution_count": 58,
   "id": "3cc4eaf8-36f1-47b9-95c7-9c4c0c693ddf",
   "metadata": {},
   "outputs": [
    {
     "ename": "TypeError",
     "evalue": "list indices must be integers or slices, not float",
     "output_type": "error",
     "traceback": [
      "\u001b[1;31m---------------------------------------------------------------------------\u001b[0m",
      "\u001b[1;31mTypeError\u001b[0m                                 Traceback (most recent call last)",
      "Cell \u001b[1;32mIn[58], line 1\u001b[0m\n\u001b[1;32m----> 1\u001b[0m myList[\u001b[38;5;241m0.42\u001b[39m]\n",
      "\u001b[1;31mTypeError\u001b[0m: list indices must be integers or slices, not float"
     ]
    }
   ],
   "source": [
    "myList[0.42]"
   ]
  },
  {
   "cell_type": "code",
   "execution_count": 65,
   "id": "9dba649a-b38f-4712-b358-da76b6edc510",
   "metadata": {},
   "outputs": [
    {
     "data": {
      "text/plain": [
       "336"
      ]
     },
     "execution_count": 65,
     "metadata": {},
     "output_type": "execute_result"
    }
   ],
   "source": [
    "import numpy as np\n",
    "dna_seqs = ['ATGGGACTGCCCTTGATGCCTCACGTATCCAAAAGCGTATCATGGAGCACTCGGAAACGCACTATAGCAATACCAGACCGTGATATACAACCAGATCACTCTACGATTAAACGACTGCGCCGCCGTATTGCGCTGCTTATCCGAGAAGCAGTCCCTCGTGCGACGCAGCACCAAGAACAAGTCTCAGAGTACCTTTGGACGTATGACTTCAGGATCGAGTCGGCGGCTAGGTTCTATGGGGAGCTCCGTGATAGGTCATCTAGACAGGGTGTGTATTATTTGAGAGTAAAACGAAATCCTCCTCGCATGTACGGGTCAATGGAATTCCCGGTCAGA',\n",
    "            'ATGGACACCTGGACATACTCCCAAGAGGCTGGAGCAGTGCCCCATTCCTCGGTGCCTCAAGTTCTGGGAATGTGCAATCCTCCGCGAGACATTCAAGGTTTCAGACCACGCGATCGGGTTAAGATACTATCTCAAGTACTTCTTTCGTGTAAGGCACCACTAGAATTGCTTACTTATCCAGGCGGACAAACTGCAATCCTATCTTCATGGGGGGTAGATTTACCATTTTGTAAGAATCTAGACGCACCACGTGGGCGTAGCGACAGGGAGACACAATGGAGCTGCATGATATGGCGGGATCCAAGATCCATGGCGAGCGCGTCATACTTTAGGTGC',\n",
    "            'ATGGTGCGCACGATTGAGTTGGAATTAGTCCCCAGACTGGCGACCATTACATACACCCTCCACCTTCCACGTCGGTTCAGCACGGGGTGGTGTTTCTCTCCAACACGAGGCCCGGGCGAATTAGTATTGATAATGCCTGGGCAGACAGCACTGGCCCGGCAGGAGATACTGGGCGATGGAAGACGTGGGTTAAGGCACGTCGGTTCTCTAGGTTTTCTATACTGGGCACGGAAGTTAGGGGCTAAAGAGCAACATACCTCTCCGCTGTCGGTCGATAGTGAGTCTTGCATAGCGATTGCTAAGAGCCTAGTTAAGCATACTCGTAACCGCGCCGCG',\n",
    "            'ATGCCTCCCGGTATCGCTGAGGCCCTAGCAAACGCACAGATCAACCAACTTGTGTCTAACGCCATGGGATCTGCCGCATTAGCTAACAATATTACGCCTATAACGCACGGCTTACCTTTCAAATGTGCTGACCAAGTGGCCTCGATACAATTAGGGACTACAGGGGATAGATGTGCAAGTTTGTTTCTATCAGCGCCGGTGATTCTACGACCGTGTAATCAGAGGGCAGCGAAGATGGATAAGGGGTTGACCAACATGCTCAGTAATGATCCAGGAGCCGGTTATGCCATGCGAATATGCATGTGCACAGTAGCCGGGAGAGCTTGTATTCGTATA',\n",
    "            'ATGACCCCACGCGGACCGTCAGGAGAAATCCTCTCACGGGATCCCGTCACTGTAACGCTCAGGGTCTTACGGCAACTCGAATGCTGTCGAAAATGTGGCAGTCAATCTCTATACCGGGGTCCGAGCTTTTTACATGTAATTTTGCAAGAATTCTTATATAGCACGATGAGACACGTACCCGATCACTTCGCCCAGCATACACTGATTAATACCGTCTATGTGATGTATTTACTTAAGACTCTCGCAACACCCGTGGCTTGGCGAAGTCTATCTGCACTAGTCGGGTCAGCCGTGCGGCGCGCACACACATCAAAGTGGCCGCAGTTGAGCGCAGTG']\n",
    "\n",
    "len(dna_seqs[0])\n",
    "len(dna_seqs[1])\n",
    "len(dna_seqs[4])"
   ]
  },
  {
   "cell_type": "code",
   "execution_count": 67,
   "id": "0593ad60-bca7-4039-a783-c78326ec0dcb",
   "metadata": {},
   "outputs": [],
   "source": [
    "dna_dims = ( 5, 5, 336) # 5 by 5 is because 5 dna seq compared to the 5 dna seq\n",
    "dna_array = np.ndarray((5, 5, 336)) # note"
   ]
  },
  {
   "cell_type": "code",
   "execution_count": 69,
   "id": "e1822931-71d0-4ffa-9c9b-0602097f3f5c",
   "metadata": {},
   "outputs": [
    {
     "data": {
      "text/plain": [
       "array([[[1.44324542e-311, 1.44324483e-311, 0.00000000e+000, ...,\n",
       "         0.00000000e+000, 0.00000000e+000, 0.00000000e+000],\n",
       "        [0.00000000e+000, 0.00000000e+000, 0.00000000e+000, ...,\n",
       "         0.00000000e+000, 0.00000000e+000, 0.00000000e+000],\n",
       "        [0.00000000e+000, 0.00000000e+000, 0.00000000e+000, ...,\n",
       "         0.00000000e+000, 0.00000000e+000, 0.00000000e+000],\n",
       "        [0.00000000e+000, 0.00000000e+000, 0.00000000e+000, ...,\n",
       "         0.00000000e+000, 0.00000000e+000, 0.00000000e+000],\n",
       "        [0.00000000e+000, 0.00000000e+000, 0.00000000e+000, ...,\n",
       "         0.00000000e+000, 0.00000000e+000, 0.00000000e+000]],\n",
       "\n",
       "       [[0.00000000e+000, 0.00000000e+000, 0.00000000e+000, ...,\n",
       "         0.00000000e+000, 0.00000000e+000, 0.00000000e+000],\n",
       "        [0.00000000e+000, 0.00000000e+000, 0.00000000e+000, ...,\n",
       "         0.00000000e+000, 0.00000000e+000, 0.00000000e+000],\n",
       "        [0.00000000e+000, 0.00000000e+000, 0.00000000e+000, ...,\n",
       "         0.00000000e+000, 0.00000000e+000, 0.00000000e+000],\n",
       "        [0.00000000e+000, 0.00000000e+000, 0.00000000e+000, ...,\n",
       "         0.00000000e+000, 0.00000000e+000, 0.00000000e+000],\n",
       "        [0.00000000e+000, 0.00000000e+000, 0.00000000e+000, ...,\n",
       "         0.00000000e+000, 0.00000000e+000, 0.00000000e+000]],\n",
       "\n",
       "       [[0.00000000e+000, 0.00000000e+000, 0.00000000e+000, ...,\n",
       "         0.00000000e+000, 0.00000000e+000, 0.00000000e+000],\n",
       "        [0.00000000e+000, 0.00000000e+000, 0.00000000e+000, ...,\n",
       "         6.95240035e-310, 1.44318240e-311, 6.95240035e-310],\n",
       "        [1.44318240e-311, 6.95240035e-310, 1.44318240e-311, ...,\n",
       "         6.95240035e-310, 1.44318240e-311, 6.95240035e-310],\n",
       "        [1.44318240e-311, 6.95240035e-310, 1.44318240e-311, ...,\n",
       "         6.95240035e-310, 1.44318240e-311, 6.95240035e-310],\n",
       "        [1.44318240e-311, 1.44318240e-311, 6.95240035e-310, ...,\n",
       "         6.95240035e-310, 6.95240035e-310, 1.44318240e-311]],\n",
       "\n",
       "       [[6.95240035e-310, 1.44318240e-311, 6.95240035e-310, ...,\n",
       "         1.44318240e-311, 6.95240035e-310, 1.44318240e-311],\n",
       "        [6.95240035e-310, 1.44318240e-311, 6.95240035e-310, ...,\n",
       "         1.44318240e-311, 6.95240035e-310, 1.44318240e-311],\n",
       "        [6.95240035e-310, 1.44318240e-311, 6.95240035e-310, ...,\n",
       "         1.44319809e-311, 6.95240035e-310, 1.44325196e-311],\n",
       "        [1.44325196e-311, 6.95240031e-310, 1.44325196e-311, ...,\n",
       "         6.95240035e-310, 6.95240035e-310, 1.44325217e-311],\n",
       "        [1.44319893e-311, 6.95240035e-310, 1.44325216e-311, ...,\n",
       "         1.44318200e-311, 1.44320396e-311, 6.95240035e-310]],\n",
       "\n",
       "       [[1.44325292e-311, 1.44320980e-311, 1.44325291e-311, ...,\n",
       "         1.44320498e-311, 1.44320498e-311, 1.44320498e-311],\n",
       "        [1.44320498e-311, 1.44320498e-311, 1.44320498e-311, ...,\n",
       "         6.95240035e-310, 1.44325289e-311, 6.95240035e-310],\n",
       "        [1.44325290e-311, 1.44325293e-311, 6.95240035e-310, ...,\n",
       "         6.95240035e-310, 1.44320489e-311, 1.44320489e-311],\n",
       "        [1.44325294e-311, 1.44320489e-311, 1.44325294e-311, ...,\n",
       "         0.00000000e+000, 0.00000000e+000, 0.00000000e+000],\n",
       "        [0.00000000e+000, 0.00000000e+000, 0.00000000e+000, ...,\n",
       "         0.00000000e+000, 0.00000000e+000, 0.00000000e+000]]])"
      ]
     },
     "execution_count": 69,
     "metadata": {},
     "output_type": "execute_result"
    }
   ],
   "source": [
    "dna_array = np.ndarray((5, 5, 336))\n",
    "dna_array # creates an empty array with information taht was already in the storage\n",
    "#This array has random numbers in it because it is assigned to specific piece of memory, so takes on the values in that memory block. It is better practise, and therefore less accident prone, to create an all-zeros array."
   ]
  },
  {
   "cell_type": "code",
   "execution_count": 71,
   "id": "aba421dc-99c9-4779-8b88-f005a2ac71cb",
   "metadata": {},
   "outputs": [
    {
     "data": {
      "text/plain": [
       "array([[[0., 0., 0., ..., 0., 0., 0.],\n",
       "        [0., 0., 0., ..., 0., 0., 0.],\n",
       "        [0., 0., 0., ..., 0., 0., 0.],\n",
       "        [0., 0., 0., ..., 0., 0., 0.],\n",
       "        [0., 0., 0., ..., 0., 0., 0.]],\n",
       "\n",
       "       [[0., 0., 0., ..., 0., 0., 0.],\n",
       "        [0., 0., 0., ..., 0., 0., 0.],\n",
       "        [0., 0., 0., ..., 0., 0., 0.],\n",
       "        [0., 0., 0., ..., 0., 0., 0.],\n",
       "        [0., 0., 0., ..., 0., 0., 0.]],\n",
       "\n",
       "       [[0., 0., 0., ..., 0., 0., 0.],\n",
       "        [0., 0., 0., ..., 0., 0., 0.],\n",
       "        [0., 0., 0., ..., 0., 0., 0.],\n",
       "        [0., 0., 0., ..., 0., 0., 0.],\n",
       "        [0., 0., 0., ..., 0., 0., 0.]],\n",
       "\n",
       "       [[0., 0., 0., ..., 0., 0., 0.],\n",
       "        [0., 0., 0., ..., 0., 0., 0.],\n",
       "        [0., 0., 0., ..., 0., 0., 0.],\n",
       "        [0., 0., 0., ..., 0., 0., 0.],\n",
       "        [0., 0., 0., ..., 0., 0., 0.]],\n",
       "\n",
       "       [[0., 0., 0., ..., 0., 0., 0.],\n",
       "        [0., 0., 0., ..., 0., 0., 0.],\n",
       "        [0., 0., 0., ..., 0., 0., 0.],\n",
       "        [0., 0., 0., ..., 0., 0., 0.],\n",
       "        [0., 0., 0., ..., 0., 0., 0.]]])"
      ]
     },
     "execution_count": 71,
     "metadata": {},
     "output_type": "execute_result"
    }
   ],
   "source": [
    "dna_array = np.zeros((5, 5, 336))\n",
    "dna_array"
   ]
  },
  {
   "cell_type": "code",
   "execution_count": 77,
   "id": "c8a42646-3844-48e9-ab38-ea95a12a26c4",
   "metadata": {},
   "outputs": [
    {
     "data": {
      "text/plain": [
       "(5, 5, 336)"
      ]
     },
     "execution_count": 77,
     "metadata": {},
     "output_type": "execute_result"
    }
   ],
   "source": [
    "dna_array.shape # attribute used for arrays and data frames, tells how many rows and columns are in that\n",
    "# dimension 1, dimension 2, dimension 3 --> basically 336 5x5 arrays stacked on top of each other"
   ]
  },
  {
   "cell_type": "code",
   "execution_count": 91,
   "id": "a57988ba-2eb6-45e9-b4d0-a2e0dd4a1c28",
   "metadata": {},
   "outputs": [
    {
     "name": "stdout",
     "output_type": "stream",
     "text": [
      "[[[1. 1. 1. ... 1. 1. 1.]\n",
      "  [1. 1. 1. ... 0. 1. 0.]\n",
      "  [1. 1. 1. ... 0. 0. 0.]\n",
      "  [1. 1. 1. ... 1. 0. 1.]\n",
      "  [1. 1. 1. ... 0. 0. 0.]]\n",
      "\n",
      " [[1. 1. 1. ... 0. 1. 0.]\n",
      "  [1. 1. 1. ... 1. 1. 1.]\n",
      "  [1. 1. 1. ... 0. 0. 0.]\n",
      "  [1. 1. 1. ... 0. 0. 0.]\n",
      "  [1. 1. 1. ... 0. 0. 0.]]\n",
      "\n",
      " [[1. 1. 1. ... 0. 0. 0.]\n",
      "  [1. 1. 1. ... 0. 0. 0.]\n",
      "  [1. 1. 1. ... 1. 1. 1.]\n",
      "  [1. 1. 1. ... 0. 0. 0.]\n",
      "  [1. 1. 1. ... 1. 0. 1.]]\n",
      "\n",
      " [[1. 1. 1. ... 1. 0. 1.]\n",
      "  [1. 1. 1. ... 0. 0. 0.]\n",
      "  [1. 1. 1. ... 0. 0. 0.]\n",
      "  [1. 1. 1. ... 1. 1. 1.]\n",
      "  [1. 1. 1. ... 0. 1. 0.]]\n",
      "\n",
      " [[1. 1. 1. ... 0. 0. 0.]\n",
      "  [1. 1. 1. ... 0. 0. 0.]\n",
      "  [1. 1. 1. ... 1. 0. 1.]\n",
      "  [1. 1. 1. ... 0. 1. 0.]\n",
      "  [1. 1. 1. ... 1. 1. 1.]]]\n",
      "[[[1. 1. 1. ... 1. 1. 1.]\n",
      "  [1. 1. 1. ... 0. 1. 0.]\n",
      "  [1. 1. 1. ... 0. 0. 0.]\n",
      "  [1. 1. 1. ... 1. 0. 1.]\n",
      "  [1. 1. 1. ... 0. 0. 0.]]\n",
      "\n",
      " [[1. 1. 1. ... 0. 1. 0.]\n",
      "  [1. 1. 1. ... 1. 1. 1.]\n",
      "  [1. 1. 1. ... 0. 0. 0.]\n",
      "  [1. 1. 1. ... 0. 0. 0.]\n",
      "  [1. 1. 1. ... 0. 0. 0.]]\n",
      "\n",
      " [[1. 1. 1. ... 0. 0. 0.]\n",
      "  [1. 1. 1. ... 0. 0. 0.]\n",
      "  [1. 1. 1. ... 1. 1. 1.]\n",
      "  [1. 1. 1. ... 0. 0. 0.]\n",
      "  [1. 1. 1. ... 1. 0. 1.]]\n",
      "\n",
      " [[1. 1. 1. ... 1. 0. 1.]\n",
      "  [1. 1. 1. ... 0. 0. 0.]\n",
      "  [1. 1. 1. ... 0. 0. 0.]\n",
      "  [1. 1. 1. ... 1. 1. 1.]\n",
      "  [1. 1. 1. ... 0. 1. 0.]]\n",
      "\n",
      " [[1. 1. 1. ... 0. 0. 0.]\n",
      "  [1. 1. 1. ... 0. 0. 0.]\n",
      "  [1. 1. 1. ... 1. 0. 1.]\n",
      "  [1. 1. 1. ... 0. 1. 0.]\n",
      "  [1. 1. 1. ... 1. 1. 1.]]]\n",
      "[[[1. 1. 1. ... 1. 1. 1.]\n",
      "  [1. 1. 1. ... 0. 1. 0.]\n",
      "  [1. 1. 1. ... 0. 0. 0.]\n",
      "  [1. 1. 1. ... 1. 0. 1.]\n",
      "  [1. 1. 1. ... 0. 0. 0.]]\n",
      "\n",
      " [[1. 1. 1. ... 0. 1. 0.]\n",
      "  [1. 1. 1. ... 1. 1. 1.]\n",
      "  [1. 1. 1. ... 0. 0. 0.]\n",
      "  [1. 1. 1. ... 0. 0. 0.]\n",
      "  [1. 1. 1. ... 0. 0. 0.]]\n",
      "\n",
      " [[1. 1. 1. ... 0. 0. 0.]\n",
      "  [1. 1. 1. ... 0. 0. 0.]\n",
      "  [1. 1. 1. ... 1. 1. 1.]\n",
      "  [1. 1. 1. ... 0. 0. 0.]\n",
      "  [1. 1. 1. ... 1. 0. 1.]]\n",
      "\n",
      " [[1. 1. 1. ... 1. 0. 1.]\n",
      "  [1. 1. 1. ... 0. 0. 0.]\n",
      "  [1. 1. 1. ... 0. 0. 0.]\n",
      "  [1. 1. 1. ... 1. 1. 1.]\n",
      "  [1. 1. 1. ... 0. 1. 0.]]\n",
      "\n",
      " [[1. 1. 1. ... 0. 0. 0.]\n",
      "  [1. 1. 1. ... 0. 0. 0.]\n",
      "  [1. 1. 1. ... 1. 0. 1.]\n",
      "  [1. 1. 1. ... 0. 1. 0.]\n",
      "  [1. 1. 1. ... 1. 1. 1.]]]\n",
      "[[[1. 1. 1. ... 1. 1. 1.]\n",
      "  [1. 1. 1. ... 0. 1. 0.]\n",
      "  [1. 1. 1. ... 0. 0. 0.]\n",
      "  [1. 1. 1. ... 1. 0. 1.]\n",
      "  [1. 1. 1. ... 0. 0. 0.]]\n",
      "\n",
      " [[1. 1. 1. ... 0. 1. 0.]\n",
      "  [1. 1. 1. ... 1. 1. 1.]\n",
      "  [1. 1. 1. ... 0. 0. 0.]\n",
      "  [1. 1. 1. ... 0. 0. 0.]\n",
      "  [1. 1. 1. ... 0. 0. 0.]]\n",
      "\n",
      " [[1. 1. 1. ... 0. 0. 0.]\n",
      "  [1. 1. 1. ... 0. 0. 0.]\n",
      "  [1. 1. 1. ... 1. 1. 1.]\n",
      "  [1. 1. 1. ... 0. 0. 0.]\n",
      "  [1. 1. 1. ... 1. 0. 1.]]\n",
      "\n",
      " [[1. 1. 1. ... 1. 0. 1.]\n",
      "  [1. 1. 1. ... 0. 0. 0.]\n",
      "  [1. 1. 1. ... 0. 0. 0.]\n",
      "  [1. 1. 1. ... 1. 1. 1.]\n",
      "  [1. 1. 1. ... 0. 1. 0.]]\n",
      "\n",
      " [[1. 1. 1. ... 0. 0. 0.]\n",
      "  [1. 1. 1. ... 0. 0. 0.]\n",
      "  [1. 1. 1. ... 1. 0. 1.]\n",
      "  [1. 1. 1. ... 0. 1. 0.]\n",
      "  [1. 1. 1. ... 1. 1. 1.]]]\n",
      "[[[1. 1. 1. ... 1. 1. 1.]\n",
      "  [1. 1. 1. ... 0. 1. 0.]\n",
      "  [1. 1. 1. ... 0. 0. 0.]\n",
      "  [1. 1. 1. ... 1. 0. 1.]\n",
      "  [1. 1. 1. ... 0. 0. 0.]]\n",
      "\n",
      " [[1. 1. 1. ... 0. 1. 0.]\n",
      "  [1. 1. 1. ... 1. 1. 1.]\n",
      "  [1. 1. 1. ... 0. 0. 0.]\n",
      "  [1. 1. 1. ... 0. 0. 0.]\n",
      "  [1. 1. 1. ... 0. 0. 0.]]\n",
      "\n",
      " [[1. 1. 1. ... 0. 0. 0.]\n",
      "  [1. 1. 1. ... 0. 0. 0.]\n",
      "  [1. 1. 1. ... 1. 1. 1.]\n",
      "  [1. 1. 1. ... 0. 0. 0.]\n",
      "  [1. 1. 1. ... 1. 0. 1.]]\n",
      "\n",
      " [[1. 1. 1. ... 1. 0. 1.]\n",
      "  [1. 1. 1. ... 0. 0. 0.]\n",
      "  [1. 1. 1. ... 0. 0. 0.]\n",
      "  [1. 1. 1. ... 1. 1. 1.]\n",
      "  [1. 1. 1. ... 0. 1. 0.]]\n",
      "\n",
      " [[1. 1. 1. ... 0. 0. 0.]\n",
      "  [1. 1. 1. ... 0. 0. 0.]\n",
      "  [1. 1. 1. ... 1. 0. 1.]\n",
      "  [1. 1. 1. ... 0. 1. 0.]\n",
      "  [1. 1. 1. ... 1. 1. 1.]]]\n",
      "[[[1. 1. 1. ... 1. 1. 1.]\n",
      "  [1. 1. 1. ... 0. 1. 0.]\n",
      "  [1. 1. 1. ... 0. 0. 0.]\n",
      "  [1. 1. 1. ... 1. 0. 1.]\n",
      "  [1. 1. 1. ... 0. 0. 0.]]\n",
      "\n",
      " [[1. 1. 1. ... 0. 1. 0.]\n",
      "  [1. 1. 1. ... 1. 1. 1.]\n",
      "  [1. 1. 1. ... 0. 0. 0.]\n",
      "  [1. 1. 1. ... 0. 0. 0.]\n",
      "  [1. 1. 1. ... 0. 0. 0.]]\n",
      "\n",
      " [[1. 1. 1. ... 0. 0. 0.]\n",
      "  [1. 1. 1. ... 0. 0. 0.]\n",
      "  [1. 1. 1. ... 1. 1. 1.]\n",
      "  [1. 1. 1. ... 0. 0. 0.]\n",
      "  [1. 1. 1. ... 1. 0. 1.]]\n",
      "\n",
      " [[1. 1. 1. ... 1. 0. 1.]\n",
      "  [1. 1. 1. ... 0. 0. 0.]\n",
      "  [1. 1. 1. ... 0. 0. 0.]\n",
      "  [1. 1. 1. ... 1. 1. 1.]\n",
      "  [1. 1. 1. ... 0. 1. 0.]]\n",
      "\n",
      " [[1. 1. 1. ... 0. 0. 0.]\n",
      "  [1. 1. 1. ... 0. 0. 0.]\n",
      "  [1. 1. 1. ... 1. 0. 1.]\n",
      "  [1. 1. 1. ... 0. 1. 0.]\n",
      "  [1. 1. 1. ... 1. 1. 1.]]]\n",
      "[[[1. 1. 1. ... 1. 1. 1.]\n",
      "  [1. 1. 1. ... 0. 1. 0.]\n",
      "  [1. 1. 1. ... 0. 0. 0.]\n",
      "  [1. 1. 1. ... 1. 0. 1.]\n",
      "  [1. 1. 1. ... 0. 0. 0.]]\n",
      "\n",
      " [[1. 1. 1. ... 0. 1. 0.]\n",
      "  [1. 1. 1. ... 1. 1. 1.]\n",
      "  [1. 1. 1. ... 0. 0. 0.]\n",
      "  [1. 1. 1. ... 0. 0. 0.]\n",
      "  [1. 1. 1. ... 0. 0. 0.]]\n",
      "\n",
      " [[1. 1. 1. ... 0. 0. 0.]\n",
      "  [1. 1. 1. ... 0. 0. 0.]\n",
      "  [1. 1. 1. ... 1. 1. 1.]\n",
      "  [1. 1. 1. ... 0. 0. 0.]\n",
      "  [1. 1. 1. ... 1. 0. 1.]]\n",
      "\n",
      " [[1. 1. 1. ... 1. 0. 1.]\n",
      "  [1. 1. 1. ... 0. 0. 0.]\n",
      "  [1. 1. 1. ... 0. 0. 0.]\n",
      "  [1. 1. 1. ... 1. 1. 1.]\n",
      "  [1. 1. 1. ... 0. 1. 0.]]\n",
      "\n",
      " [[1. 1. 1. ... 0. 0. 0.]\n",
      "  [1. 1. 1. ... 0. 0. 0.]\n",
      "  [1. 1. 1. ... 1. 0. 1.]\n",
      "  [1. 1. 1. ... 0. 1. 0.]\n",
      "  [1. 1. 1. ... 1. 1. 1.]]]\n",
      "[[[1. 1. 1. ... 1. 1. 1.]\n",
      "  [1. 1. 1. ... 0. 1. 0.]\n",
      "  [1. 1. 1. ... 0. 0. 0.]\n",
      "  [1. 1. 1. ... 1. 0. 1.]\n",
      "  [1. 1. 1. ... 0. 0. 0.]]\n",
      "\n",
      " [[1. 1. 1. ... 0. 1. 0.]\n",
      "  [1. 1. 1. ... 1. 1. 1.]\n",
      "  [1. 1. 1. ... 0. 0. 0.]\n",
      "  [1. 1. 1. ... 0. 0. 0.]\n",
      "  [1. 1. 1. ... 0. 0. 0.]]\n",
      "\n",
      " [[1. 1. 1. ... 0. 0. 0.]\n",
      "  [1. 1. 1. ... 0. 0. 0.]\n",
      "  [1. 1. 1. ... 1. 1. 1.]\n",
      "  [1. 1. 1. ... 0. 0. 0.]\n",
      "  [1. 1. 1. ... 1. 0. 1.]]\n",
      "\n",
      " [[1. 1. 1. ... 1. 0. 1.]\n",
      "  [1. 1. 1. ... 0. 0. 0.]\n",
      "  [1. 1. 1. ... 0. 0. 0.]\n",
      "  [1. 1. 1. ... 1. 1. 1.]\n",
      "  [1. 1. 1. ... 0. 1. 0.]]\n",
      "\n",
      " [[1. 1. 1. ... 0. 0. 0.]\n",
      "  [1. 1. 1. ... 0. 0. 0.]\n",
      "  [1. 1. 1. ... 1. 0. 1.]\n",
      "  [1. 1. 1. ... 0. 1. 0.]\n",
      "  [1. 1. 1. ... 1. 1. 1.]]]\n",
      "[[[1. 1. 1. ... 1. 1. 1.]\n",
      "  [1. 1. 1. ... 0. 1. 0.]\n",
      "  [1. 1. 1. ... 0. 0. 0.]\n",
      "  [1. 1. 1. ... 1. 0. 1.]\n",
      "  [1. 1. 1. ... 0. 0. 0.]]\n",
      "\n",
      " [[1. 1. 1. ... 0. 1. 0.]\n",
      "  [1. 1. 1. ... 1. 1. 1.]\n",
      "  [1. 1. 1. ... 0. 0. 0.]\n",
      "  [1. 1. 1. ... 0. 0. 0.]\n",
      "  [1. 1. 1. ... 0. 0. 0.]]\n",
      "\n",
      " [[1. 1. 1. ... 0. 0. 0.]\n",
      "  [1. 1. 1. ... 0. 0. 0.]\n",
      "  [1. 1. 1. ... 1. 1. 1.]\n",
      "  [1. 1. 1. ... 0. 0. 0.]\n",
      "  [1. 1. 1. ... 1. 0. 1.]]\n",
      "\n",
      " [[1. 1. 1. ... 1. 0. 1.]\n",
      "  [1. 1. 1. ... 0. 0. 0.]\n",
      "  [1. 1. 1. ... 0. 0. 0.]\n",
      "  [1. 1. 1. ... 1. 1. 1.]\n",
      "  [1. 1. 1. ... 0. 1. 0.]]\n",
      "\n",
      " [[1. 1. 1. ... 0. 0. 0.]\n",
      "  [1. 1. 1. ... 0. 0. 0.]\n",
      "  [1. 1. 1. ... 1. 0. 1.]\n",
      "  [1. 1. 1. ... 0. 1. 0.]\n",
      "  [1. 1. 1. ... 1. 1. 1.]]]\n",
      "[[[1. 1. 1. ... 1. 1. 1.]\n",
      "  [1. 1. 1. ... 0. 1. 0.]\n",
      "  [1. 1. 1. ... 0. 0. 0.]\n",
      "  [1. 1. 1. ... 1. 0. 1.]\n",
      "  [1. 1. 1. ... 0. 0. 0.]]\n",
      "\n",
      " [[1. 1. 1. ... 0. 1. 0.]\n",
      "  [1. 1. 1. ... 1. 1. 1.]\n",
      "  [1. 1. 1. ... 0. 0. 0.]\n",
      "  [1. 1. 1. ... 0. 0. 0.]\n",
      "  [1. 1. 1. ... 0. 0. 0.]]\n",
      "\n",
      " [[1. 1. 1. ... 0. 0. 0.]\n",
      "  [1. 1. 1. ... 0. 0. 0.]\n",
      "  [1. 1. 1. ... 1. 1. 1.]\n",
      "  [1. 1. 1. ... 0. 0. 0.]\n",
      "  [1. 1. 1. ... 1. 0. 1.]]\n",
      "\n",
      " [[1. 1. 1. ... 1. 0. 1.]\n",
      "  [1. 1. 1. ... 0. 0. 0.]\n",
      "  [1. 1. 1. ... 0. 0. 0.]\n",
      "  [1. 1. 1. ... 1. 1. 1.]\n",
      "  [1. 1. 1. ... 0. 1. 0.]]\n",
      "\n",
      " [[1. 1. 1. ... 0. 0. 0.]\n",
      "  [1. 1. 1. ... 0. 0. 0.]\n",
      "  [1. 1. 1. ... 1. 0. 1.]\n",
      "  [1. 1. 1. ... 0. 1. 0.]\n",
      "  [1. 1. 1. ... 1. 1. 1.]]]\n",
      "[[[1. 1. 1. ... 1. 1. 1.]\n",
      "  [1. 1. 1. ... 0. 1. 0.]\n",
      "  [1. 1. 1. ... 0. 0. 0.]\n",
      "  [1. 1. 1. ... 1. 0. 1.]\n",
      "  [1. 1. 1. ... 0. 0. 0.]]\n",
      "\n",
      " [[1. 1. 1. ... 0. 1. 0.]\n",
      "  [1. 1. 1. ... 1. 1. 1.]\n",
      "  [1. 1. 1. ... 0. 0. 0.]\n",
      "  [1. 1. 1. ... 0. 0. 0.]\n",
      "  [1. 1. 1. ... 0. 0. 0.]]\n",
      "\n",
      " [[1. 1. 1. ... 0. 0. 0.]\n",
      "  [1. 1. 1. ... 0. 0. 0.]\n",
      "  [1. 1. 1. ... 1. 1. 1.]\n",
      "  [1. 1. 1. ... 0. 0. 0.]\n",
      "  [1. 1. 1. ... 1. 0. 1.]]\n",
      "\n",
      " [[1. 1. 1. ... 1. 0. 1.]\n",
      "  [1. 1. 1. ... 0. 0. 0.]\n",
      "  [1. 1. 1. ... 0. 0. 0.]\n",
      "  [1. 1. 1. ... 1. 1. 1.]\n",
      "  [1. 1. 1. ... 0. 1. 0.]]\n",
      "\n",
      " [[1. 1. 1. ... 0. 0. 0.]\n",
      "  [1. 1. 1. ... 0. 0. 0.]\n",
      "  [1. 1. 1. ... 1. 0. 1.]\n",
      "  [1. 1. 1. ... 0. 1. 0.]\n",
      "  [1. 1. 1. ... 1. 1. 1.]]]\n",
      "[[[1. 1. 1. ... 1. 1. 1.]\n",
      "  [1. 1. 1. ... 0. 1. 0.]\n",
      "  [1. 1. 1. ... 0. 0. 0.]\n",
      "  [1. 1. 1. ... 1. 0. 1.]\n",
      "  [1. 1. 1. ... 0. 0. 0.]]\n",
      "\n",
      " [[1. 1. 1. ... 0. 1. 0.]\n",
      "  [1. 1. 1. ... 1. 1. 1.]\n",
      "  [1. 1. 1. ... 0. 0. 0.]\n",
      "  [1. 1. 1. ... 0. 0. 0.]\n",
      "  [1. 1. 1. ... 0. 0. 0.]]\n",
      "\n",
      " [[1. 1. 1. ... 0. 0. 0.]\n",
      "  [1. 1. 1. ... 0. 0. 0.]\n",
      "  [1. 1. 1. ... 1. 1. 1.]\n",
      "  [1. 1. 1. ... 0. 0. 0.]\n",
      "  [1. 1. 1. ... 1. 0. 1.]]\n",
      "\n",
      " [[1. 1. 1. ... 1. 0. 1.]\n",
      "  [1. 1. 1. ... 0. 0. 0.]\n",
      "  [1. 1. 1. ... 0. 0. 0.]\n",
      "  [1. 1. 1. ... 1. 1. 1.]\n",
      "  [1. 1. 1. ... 0. 1. 0.]]\n",
      "\n",
      " [[1. 1. 1. ... 0. 0. 0.]\n",
      "  [1. 1. 1. ... 0. 0. 0.]\n",
      "  [1. 1. 1. ... 1. 0. 1.]\n",
      "  [1. 1. 1. ... 0. 1. 0.]\n",
      "  [1. 1. 1. ... 1. 1. 1.]]]\n",
      "[[[1. 1. 1. ... 1. 1. 1.]\n",
      "  [1. 1. 1. ... 0. 1. 0.]\n",
      "  [1. 1. 1. ... 0. 0. 0.]\n",
      "  [1. 1. 1. ... 1. 0. 1.]\n",
      "  [1. 1. 1. ... 0. 0. 0.]]\n",
      "\n",
      " [[1. 1. 1. ... 0. 1. 0.]\n",
      "  [1. 1. 1. ... 1. 1. 1.]\n",
      "  [1. 1. 1. ... 0. 0. 0.]\n",
      "  [1. 1. 1. ... 0. 0. 0.]\n",
      "  [1. 1. 1. ... 0. 0. 0.]]\n",
      "\n",
      " [[1. 1. 1. ... 0. 0. 0.]\n",
      "  [1. 1. 1. ... 0. 0. 0.]\n",
      "  [1. 1. 1. ... 1. 1. 1.]\n",
      "  [1. 1. 1. ... 0. 0. 0.]\n",
      "  [1. 1. 1. ... 1. 0. 1.]]\n",
      "\n",
      " [[1. 1. 1. ... 1. 0. 1.]\n",
      "  [1. 1. 1. ... 0. 0. 0.]\n",
      "  [1. 1. 1. ... 0. 0. 0.]\n",
      "  [1. 1. 1. ... 1. 1. 1.]\n",
      "  [1. 1. 1. ... 0. 1. 0.]]\n",
      "\n",
      " [[1. 1. 1. ... 0. 0. 0.]\n",
      "  [1. 1. 1. ... 0. 0. 0.]\n",
      "  [1. 1. 1. ... 1. 0. 1.]\n",
      "  [1. 1. 1. ... 0. 1. 0.]\n",
      "  [1. 1. 1. ... 1. 1. 1.]]]\n",
      "[[[1. 1. 1. ... 1. 1. 1.]\n",
      "  [1. 1. 1. ... 0. 1. 0.]\n",
      "  [1. 1. 1. ... 0. 0. 0.]\n",
      "  [1. 1. 1. ... 1. 0. 1.]\n",
      "  [1. 1. 1. ... 0. 0. 0.]]\n",
      "\n",
      " [[1. 1. 1. ... 0. 1. 0.]\n",
      "  [1. 1. 1. ... 1. 1. 1.]\n",
      "  [1. 1. 1. ... 0. 0. 0.]\n",
      "  [1. 1. 1. ... 0. 0. 0.]\n",
      "  [1. 1. 1. ... 0. 0. 0.]]\n",
      "\n",
      " [[1. 1. 1. ... 0. 0. 0.]\n",
      "  [1. 1. 1. ... 0. 0. 0.]\n",
      "  [1. 1. 1. ... 1. 1. 1.]\n",
      "  [1. 1. 1. ... 0. 0. 0.]\n",
      "  [1. 1. 1. ... 1. 0. 1.]]\n",
      "\n",
      " [[1. 1. 1. ... 1. 0. 1.]\n",
      "  [1. 1. 1. ... 0. 0. 0.]\n",
      "  [1. 1. 1. ... 0. 0. 0.]\n",
      "  [1. 1. 1. ... 1. 1. 1.]\n",
      "  [1. 1. 1. ... 0. 1. 0.]]\n",
      "\n",
      " [[1. 1. 1. ... 0. 0. 0.]\n",
      "  [1. 1. 1. ... 0. 0. 0.]\n",
      "  [1. 1. 1. ... 1. 0. 1.]\n",
      "  [1. 1. 1. ... 0. 1. 0.]\n",
      "  [1. 1. 1. ... 1. 1. 1.]]]\n",
      "[[[1. 1. 1. ... 1. 1. 1.]\n",
      "  [1. 1. 1. ... 0. 1. 0.]\n",
      "  [1. 1. 1. ... 0. 0. 0.]\n",
      "  [1. 1. 1. ... 1. 0. 1.]\n",
      "  [1. 1. 1. ... 0. 0. 0.]]\n",
      "\n",
      " [[1. 1. 1. ... 0. 1. 0.]\n",
      "  [1. 1. 1. ... 1. 1. 1.]\n",
      "  [1. 1. 1. ... 0. 0. 0.]\n",
      "  [1. 1. 1. ... 0. 0. 0.]\n",
      "  [1. 1. 1. ... 0. 0. 0.]]\n",
      "\n",
      " [[1. 1. 1. ... 0. 0. 0.]\n",
      "  [1. 1. 1. ... 0. 0. 0.]\n",
      "  [1. 1. 1. ... 1. 1. 1.]\n",
      "  [1. 1. 1. ... 0. 0. 0.]\n",
      "  [1. 1. 1. ... 1. 0. 1.]]\n",
      "\n",
      " [[1. 1. 1. ... 1. 0. 1.]\n",
      "  [1. 1. 1. ... 0. 0. 0.]\n",
      "  [1. 1. 1. ... 0. 0. 0.]\n",
      "  [1. 1. 1. ... 1. 1. 1.]\n",
      "  [1. 1. 1. ... 0. 1. 0.]]\n",
      "\n",
      " [[1. 1. 1. ... 0. 0. 0.]\n",
      "  [1. 1. 1. ... 0. 0. 0.]\n",
      "  [1. 1. 1. ... 1. 0. 1.]\n",
      "  [1. 1. 1. ... 0. 1. 0.]\n",
      "  [1. 1. 1. ... 1. 1. 1.]]]\n",
      "[[[1. 1. 1. ... 1. 1. 1.]\n",
      "  [1. 1. 1. ... 0. 1. 0.]\n",
      "  [1. 1. 1. ... 0. 0. 0.]\n",
      "  [1. 1. 1. ... 1. 0. 1.]\n",
      "  [1. 1. 1. ... 0. 0. 0.]]\n",
      "\n",
      " [[1. 1. 1. ... 0. 1. 0.]\n",
      "  [1. 1. 1. ... 1. 1. 1.]\n",
      "  [1. 1. 1. ... 0. 0. 0.]\n",
      "  [1. 1. 1. ... 0. 0. 0.]\n",
      "  [1. 1. 1. ... 0. 0. 0.]]\n",
      "\n",
      " [[1. 1. 1. ... 0. 0. 0.]\n",
      "  [1. 1. 1. ... 0. 0. 0.]\n",
      "  [1. 1. 1. ... 1. 1. 1.]\n",
      "  [1. 1. 1. ... 0. 0. 0.]\n",
      "  [1. 1. 1. ... 1. 0. 1.]]\n",
      "\n",
      " [[1. 1. 1. ... 1. 0. 1.]\n",
      "  [1. 1. 1. ... 0. 0. 0.]\n",
      "  [1. 1. 1. ... 0. 0. 0.]\n",
      "  [1. 1. 1. ... 1. 1. 1.]\n",
      "  [1. 1. 1. ... 0. 1. 0.]]\n",
      "\n",
      " [[1. 1. 1. ... 0. 0. 0.]\n",
      "  [1. 1. 1. ... 0. 0. 0.]\n",
      "  [1. 1. 1. ... 1. 0. 1.]\n",
      "  [1. 1. 1. ... 0. 1. 0.]\n",
      "  [1. 1. 1. ... 1. 1. 1.]]]\n",
      "[[[1. 1. 1. ... 1. 1. 1.]\n",
      "  [1. 1. 1. ... 0. 1. 0.]\n",
      "  [1. 1. 1. ... 0. 0. 0.]\n",
      "  [1. 1. 1. ... 1. 0. 1.]\n",
      "  [1. 1. 1. ... 0. 0. 0.]]\n",
      "\n",
      " [[1. 1. 1. ... 0. 1. 0.]\n",
      "  [1. 1. 1. ... 1. 1. 1.]\n",
      "  [1. 1. 1. ... 0. 0. 0.]\n",
      "  [1. 1. 1. ... 0. 0. 0.]\n",
      "  [1. 1. 1. ... 0. 0. 0.]]\n",
      "\n",
      " [[1. 1. 1. ... 0. 0. 0.]\n",
      "  [1. 1. 1. ... 0. 0. 0.]\n",
      "  [1. 1. 1. ... 1. 1. 1.]\n",
      "  [1. 1. 1. ... 0. 0. 0.]\n",
      "  [1. 1. 1. ... 1. 0. 1.]]\n",
      "\n",
      " [[1. 1. 1. ... 1. 0. 1.]\n",
      "  [1. 1. 1. ... 0. 0. 0.]\n",
      "  [1. 1. 1. ... 0. 0. 0.]\n",
      "  [1. 1. 1. ... 1. 1. 1.]\n",
      "  [1. 1. 1. ... 0. 1. 0.]]\n",
      "\n",
      " [[1. 1. 1. ... 0. 0. 0.]\n",
      "  [1. 1. 1. ... 0. 0. 0.]\n",
      "  [1. 1. 1. ... 1. 0. 1.]\n",
      "  [1. 1. 1. ... 0. 1. 0.]\n",
      "  [1. 1. 1. ... 1. 1. 1.]]]\n",
      "[[[1. 1. 1. ... 1. 1. 1.]\n",
      "  [1. 1. 1. ... 0. 1. 0.]\n",
      "  [1. 1. 1. ... 0. 0. 0.]\n",
      "  [1. 1. 1. ... 1. 0. 1.]\n",
      "  [1. 1. 1. ... 0. 0. 0.]]\n",
      "\n",
      " [[1. 1. 1. ... 0. 1. 0.]\n",
      "  [1. 1. 1. ... 1. 1. 1.]\n",
      "  [1. 1. 1. ... 0. 0. 0.]\n",
      "  [1. 1. 1. ... 0. 0. 0.]\n",
      "  [1. 1. 1. ... 0. 0. 0.]]\n",
      "\n",
      " [[1. 1. 1. ... 0. 0. 0.]\n",
      "  [1. 1. 1. ... 0. 0. 0.]\n",
      "  [1. 1. 1. ... 1. 1. 1.]\n",
      "  [1. 1. 1. ... 0. 0. 0.]\n",
      "  [1. 1. 1. ... 1. 0. 1.]]\n",
      "\n",
      " [[1. 1. 1. ... 1. 0. 1.]\n",
      "  [1. 1. 1. ... 0. 0. 0.]\n",
      "  [1. 1. 1. ... 0. 0. 0.]\n",
      "  [1. 1. 1. ... 1. 1. 1.]\n",
      "  [1. 1. 1. ... 0. 1. 0.]]\n",
      "\n",
      " [[1. 1. 1. ... 0. 0. 0.]\n",
      "  [1. 1. 1. ... 0. 0. 0.]\n",
      "  [1. 1. 1. ... 1. 0. 1.]\n",
      "  [1. 1. 1. ... 0. 1. 0.]\n",
      "  [1. 1. 1. ... 1. 1. 1.]]]\n",
      "[[[1. 1. 1. ... 1. 1. 1.]\n",
      "  [1. 1. 1. ... 0. 1. 0.]\n",
      "  [1. 1. 1. ... 0. 0. 0.]\n",
      "  [1. 1. 1. ... 1. 0. 1.]\n",
      "  [1. 1. 1. ... 0. 0. 0.]]\n",
      "\n",
      " [[1. 1. 1. ... 0. 1. 0.]\n",
      "  [1. 1. 1. ... 1. 1. 1.]\n",
      "  [1. 1. 1. ... 0. 0. 0.]\n",
      "  [1. 1. 1. ... 0. 0. 0.]\n",
      "  [1. 1. 1. ... 0. 0. 0.]]\n",
      "\n",
      " [[1. 1. 1. ... 0. 0. 0.]\n",
      "  [1. 1. 1. ... 0. 0. 0.]\n",
      "  [1. 1. 1. ... 1. 1. 1.]\n",
      "  [1. 1. 1. ... 0. 0. 0.]\n",
      "  [1. 1. 1. ... 1. 0. 1.]]\n",
      "\n",
      " [[1. 1. 1. ... 1. 0. 1.]\n",
      "  [1. 1. 1. ... 0. 0. 0.]\n",
      "  [1. 1. 1. ... 0. 0. 0.]\n",
      "  [1. 1. 1. ... 1. 1. 1.]\n",
      "  [1. 1. 1. ... 0. 1. 0.]]\n",
      "\n",
      " [[1. 1. 1. ... 0. 0. 0.]\n",
      "  [1. 1. 1. ... 0. 0. 0.]\n",
      "  [1. 1. 1. ... 1. 0. 1.]\n",
      "  [1. 1. 1. ... 0. 1. 0.]\n",
      "  [1. 1. 1. ... 1. 1. 1.]]]\n",
      "[[[1. 1. 1. ... 1. 1. 1.]\n",
      "  [1. 1. 1. ... 0. 1. 0.]\n",
      "  [1. 1. 1. ... 0. 0. 0.]\n",
      "  [1. 1. 1. ... 1. 0. 1.]\n",
      "  [1. 1. 1. ... 0. 0. 0.]]\n",
      "\n",
      " [[1. 1. 1. ... 0. 1. 0.]\n",
      "  [1. 1. 1. ... 1. 1. 1.]\n",
      "  [1. 1. 1. ... 0. 0. 0.]\n",
      "  [1. 1. 1. ... 0. 0. 0.]\n",
      "  [1. 1. 1. ... 0. 0. 0.]]\n",
      "\n",
      " [[1. 1. 1. ... 0. 0. 0.]\n",
      "  [1. 1. 1. ... 0. 0. 0.]\n",
      "  [1. 1. 1. ... 1. 1. 1.]\n",
      "  [1. 1. 1. ... 0. 0. 0.]\n",
      "  [1. 1. 1. ... 1. 0. 1.]]\n",
      "\n",
      " [[1. 1. 1. ... 1. 0. 1.]\n",
      "  [1. 1. 1. ... 0. 0. 0.]\n",
      "  [1. 1. 1. ... 0. 0. 0.]\n",
      "  [1. 1. 1. ... 1. 1. 1.]\n",
      "  [1. 1. 1. ... 0. 1. 0.]]\n",
      "\n",
      " [[1. 1. 1. ... 0. 0. 0.]\n",
      "  [1. 1. 1. ... 0. 0. 0.]\n",
      "  [1. 1. 1. ... 1. 0. 1.]\n",
      "  [1. 1. 1. ... 0. 1. 0.]\n",
      "  [1. 1. 1. ... 1. 1. 1.]]]\n"
     ]
    }
   ],
   "source": [
    "for idx1 in range(len(dna_seqs)):\n",
    "    # loop 1 gets each seq\n",
    "    # loop 2 gets the other seq to compare to.\n",
    "    seq1 = dna_seqs[idx1]\n",
    "    for idx2 in range(len(dna_seqs)):\n",
    "        seq2 = dna_seqs[idx2]\n",
    "        # assume the sequences are the same length\n",
    "        for nt in range(len(seq1)):\n",
    "            if seq1[nt] == seq2[nt]:\n",
    "                dna_array[idx1, idx2, nt] = 1\n",
    "            else:\n",
    "                dna_array[idx1, idx2, nt] = 0 # we don't actually need this because the default value\n",
    "                print(dna_array)\n",
    "                break"
   ]
  },
  {
   "cell_type": "code",
   "execution_count": 99,
   "id": "c80593d3-39ee-4308-bb61-d47026402f6a",
   "metadata": {},
   "outputs": [
    {
     "data": {
      "text/plain": [
       "array([1., 1., 1., 1., 1., 1., 1., 1., 1., 1., 1., 1., 1., 1., 1., 1., 1.,\n",
       "       1., 1., 1., 1., 1., 1., 1., 1., 1., 1., 1., 1., 1., 1., 1., 1., 1.,\n",
       "       1., 1., 1., 1., 1., 1., 1., 1., 1., 1., 1., 1., 1., 1., 1., 1., 1.,\n",
       "       1., 1., 1., 1., 1., 1., 1., 1., 1., 1., 1., 1., 1., 1., 1., 1., 1.,\n",
       "       1., 1., 1., 1., 1., 1., 1., 1., 1., 1., 1., 1., 1., 1., 1., 1., 1.,\n",
       "       1., 1., 1., 1., 1., 1., 1., 1., 1., 1., 1., 1., 1., 1., 1., 1., 1.,\n",
       "       1., 1., 1., 1., 1., 1., 1., 1., 1., 1., 1., 1., 1., 1., 1., 1., 1.,\n",
       "       1., 1., 1., 1., 1., 1., 1., 1., 1., 1., 1., 1., 1., 1., 1., 1., 1.,\n",
       "       1., 1., 1., 1., 1., 1., 1., 1., 1., 1., 1., 1., 1., 1., 1., 1., 1.,\n",
       "       1., 1., 1., 1., 1., 1., 1., 1., 1., 1., 1., 1., 1., 1., 1., 1., 1.,\n",
       "       1., 1., 1., 1., 1., 1., 1., 1., 1., 1., 1., 1., 1., 1., 1., 1., 1.,\n",
       "       1., 1., 1., 1., 1., 1., 1., 1., 1., 1., 1., 1., 1., 1., 1., 1., 1.,\n",
       "       1., 1., 1., 1., 1., 1., 1., 1., 1., 1., 1., 1., 1., 1., 1., 1., 1.,\n",
       "       1., 1., 1., 1., 1., 1., 1., 1., 1., 1., 1., 1., 1., 1., 1., 1., 1.,\n",
       "       1., 1., 1., 1., 1., 1., 1., 1., 1., 1., 1., 1., 1., 1., 1., 1., 1.,\n",
       "       1., 1., 1., 1., 1., 1., 1., 1., 1., 1., 1., 1., 1., 1., 1., 1., 1.,\n",
       "       1., 1., 1., 1., 1., 1., 1., 1., 1., 1., 1., 1., 1., 1., 1., 1., 1.,\n",
       "       1., 1., 1., 1., 1., 1., 1., 1., 1., 1., 1., 1., 1., 1., 1., 1., 1.,\n",
       "       1., 1., 1., 1., 1., 1., 1., 1., 1., 1., 1., 1., 1., 1., 1., 1., 1.,\n",
       "       1., 1., 1., 1., 1., 1., 1., 1., 1., 1., 1., 1., 1.])"
      ]
     },
     "execution_count": 99,
     "metadata": {},
     "output_type": "execute_result"
    }
   ],
   "source": [
    "dna_array[0, 0, :] # sequence 1 matches perfectly to itself"
   ]
  },
  {
   "cell_type": "code",
   "execution_count": 93,
   "id": "4769046c-c477-4af1-a937-b5c883cdf7d8",
   "metadata": {},
   "outputs": [
    {
     "data": {
      "text/plain": [
       "array([1., 1., 1., 0., 0., 1., 0., 1., 0., 0., 1., 0., 0., 0., 1., 0., 0.,\n",
       "       0., 1., 1., 0., 0., 0., 1., 1., 1., 0., 0., 0., 0., 0., 0., 0., 0.,\n",
       "       1., 1., 0., 0., 1., 0., 0., 0., 1., 0., 0., 0., 0., 1., 0., 1., 0.,\n",
       "       1., 1., 0., 0., 1., 0., 1., 0., 0., 0., 0., 0., 0., 1., 0., 0., 0.,\n",
       "       1., 0., 0., 1., 0., 0., 0., 0., 0., 0., 0., 0., 0., 0., 0., 0., 0.,\n",
       "       1., 0., 0., 0., 0., 1., 0., 0., 0., 0., 0., 1., 1., 0., 0., 0., 0.,\n",
       "       0., 0., 1., 0., 1., 0., 1., 0., 0., 0., 1., 0., 1., 1., 1., 1., 0.,\n",
       "       1., 0., 0., 1., 1., 0., 0., 0., 1., 0., 1., 0., 0., 1., 1., 0., 1.,\n",
       "       1., 1., 0., 1., 1., 0., 1., 0., 0., 0., 0., 0., 0., 0., 0., 0., 0.,\n",
       "       0., 0., 1., 0., 0., 0., 0., 0., 0., 0., 0., 0., 0., 1., 1., 0., 0.,\n",
       "       0., 0., 0., 0., 0., 0., 0., 1., 1., 0., 1., 0., 0., 0., 0., 0., 0.,\n",
       "       0., 0., 0., 1., 0., 0., 0., 0., 0., 0., 0., 0., 0., 1., 0., 0., 0.,\n",
       "       0., 0., 0., 0., 0., 0., 0., 0., 0., 1., 1., 0., 0., 1., 1., 0., 1.,\n",
       "       0., 0., 0., 0., 1., 0., 1., 1., 0., 0., 0., 0., 0., 1., 1., 0., 0.,\n",
       "       0., 0., 0., 0., 1., 1., 1., 1., 0., 1., 1., 1., 0., 0., 1., 0., 1.,\n",
       "       0., 0., 1., 0., 1., 0., 0., 0., 0., 1., 1., 0., 0., 0., 0., 0., 1.,\n",
       "       0., 0., 0., 1., 0., 0., 0., 0., 0., 1., 0., 1., 0., 0., 0., 0., 0.,\n",
       "       0., 0., 0., 0., 1., 1., 1., 1., 0., 0., 0., 0., 1., 1., 0., 0., 0.,\n",
       "       0., 1., 0., 0., 0., 0., 0., 0., 1., 0., 1., 0., 0., 1., 1., 0., 0.,\n",
       "       0., 1., 0., 0., 0., 0., 0., 0., 0., 0., 0., 0., 0.])"
      ]
     },
     "execution_count": 93,
     "metadata": {},
     "output_type": "execute_result"
    }
   ],
   "source": [
    "dna_array[1, 4, :] "
   ]
  },
  {
   "cell_type": "code",
   "execution_count": 97,
   "id": "51f974ad-c7d2-474b-934c-52abcc650bd7",
   "metadata": {},
   "outputs": [
    {
     "data": {
      "text/plain": [
       "array([1., 1., 1., 0., 0., 0., 1., 0., 0., 0., 0., 0., 0., 0., 0., 0., 0.,\n",
       "       1., 1., 0., 0., 1., 0., 1., 0., 0., 1., 0., 1., 1., 1., 0., 1., 0.,\n",
       "       0., 1., 1., 0., 1., 1., 0., 0., 0., 1., 1., 0., 1., 0., 1., 1., 0.,\n",
       "       0., 0., 0., 1., 1., 0., 1., 1., 1., 0., 0., 0., 0., 1., 0., 0., 0.,\n",
       "       1., 1., 1., 0., 1., 0., 0., 0., 1., 1., 0., 0., 0., 0., 0., 0., 0.,\n",
       "       1., 0., 0., 1., 0., 0., 0., 0., 1., 0., 0., 0., 0., 0., 0., 0., 0.,\n",
       "       0., 0., 1., 0., 0., 0., 0., 0., 0., 0., 0., 0., 0., 1., 0., 1., 0.,\n",
       "       0., 0., 0., 0., 0., 0., 0., 1., 1., 0., 0., 1., 1., 0., 0., 0., 0.,\n",
       "       0., 0., 0., 0., 0., 0., 0., 1., 0., 0., 1., 1., 0., 1., 0., 1., 0.,\n",
       "       0., 0., 0., 0., 0., 0., 0., 0., 0., 0., 0., 1., 1., 1., 0., 0., 0.,\n",
       "       0., 0., 0., 1., 1., 0., 0., 0., 0., 0., 0., 0., 0., 1., 0., 0., 0.,\n",
       "       0., 0., 0., 0., 0., 0., 0., 1., 1., 1., 0., 0., 0., 0., 0., 0., 0.,\n",
       "       0., 0., 1., 0., 0., 0., 0., 0., 0., 0., 1., 0., 0., 0., 0., 0., 0.,\n",
       "       0., 0., 0., 1., 0., 0., 0., 0., 0., 0., 0., 0., 0., 0., 0., 0., 0.,\n",
       "       0., 0., 0., 0., 0., 0., 0., 1., 0., 0., 0., 1., 0., 0., 0., 0., 0.,\n",
       "       0., 1., 0., 1., 0., 0., 1., 0., 0., 0., 0., 0., 0., 0., 0., 0., 0.,\n",
       "       0., 1., 0., 0., 0., 0., 0., 1., 0., 0., 0., 0., 0., 1., 0., 0., 0.,\n",
       "       0., 0., 1., 0., 1., 0., 0., 0., 0., 0., 0., 0., 0., 0., 0., 0., 1.,\n",
       "       0., 0., 1., 0., 0., 0., 1., 1., 1., 0., 0., 0., 0., 1., 0., 1., 0.,\n",
       "       0., 0., 0., 0., 0., 1., 1., 1., 1., 0., 1., 0., 1.])"
      ]
     },
     "execution_count": 97,
     "metadata": {},
     "output_type": "execute_result"
    }
   ],
   "source": [
    "dna_array[2, 4, :] "
   ]
  },
  {
   "cell_type": "code",
   "execution_count": 103,
   "id": "8ad97def-da4e-4fb4-8209-438ee813cb90",
   "metadata": {},
   "outputs": [
    {
     "data": {
      "text/plain": [
       "84.0"
      ]
     },
     "execution_count": 103,
     "metadata": {},
     "output_type": "execute_result"
    }
   ],
   "source": [
    "np.sum(dna_array[2, 4, :])"
   ]
  },
  {
   "cell_type": "code",
   "execution_count": 105,
   "id": "e6506fb0-f8c3-447b-8f86-74e4f2d7ec2d",
   "metadata": {},
   "outputs": [
    {
     "data": {
      "text/plain": [
       "336.0"
      ]
     },
     "execution_count": 105,
     "metadata": {},
     "output_type": "execute_result"
    }
   ],
   "source": [
    "np.sum(dna_array[2, 2, :])"
   ]
  },
  {
   "cell_type": "code",
   "execution_count": 107,
   "id": "99ae6359-f759-4f5a-9c20-994d7bb73a4a",
   "metadata": {},
   "outputs": [
    {
     "data": {
      "text/plain": [
       "array([[5., 5., 5., ..., 2., 2., 2.],\n",
       "       [5., 5., 5., ..., 1., 2., 1.],\n",
       "       [5., 5., 5., ..., 2., 1., 2.],\n",
       "       [5., 5., 5., ..., 2., 2., 2.],\n",
       "       [5., 5., 5., ..., 2., 2., 2.]])"
      ]
     },
     "execution_count": 107,
     "metadata": {},
     "output_type": "execute_result"
    }
   ],
   "source": [
    "np.sum(dna_array, 0)"
   ]
  },
  {
   "cell_type": "code",
   "execution_count": 109,
   "id": "4db1e733-4e00-447e-8a28-920fff54f1a8",
   "metadata": {},
   "outputs": [
    {
     "data": {
      "text/plain": [
       "array([[5., 5., 5., ..., 2., 2., 2.],\n",
       "       [5., 5., 5., ..., 1., 2., 1.],\n",
       "       [5., 5., 5., ..., 2., 1., 2.],\n",
       "       [5., 5., 5., ..., 2., 2., 2.],\n",
       "       [5., 5., 5., ..., 2., 2., 2.]])"
      ]
     },
     "execution_count": 109,
     "metadata": {},
     "output_type": "execute_result"
    }
   ],
   "source": [
    "np.sum(dna_array, 1)"
   ]
  },
  {
   "cell_type": "code",
   "execution_count": 115,
   "id": "d728edaf-5010-46e2-bd4b-6c63f2f026e2",
   "metadata": {},
   "outputs": [
    {
     "data": {
      "text/plain": [
       "array([[336.,  90.,  98.,  85.,  94.],\n",
       "       [ 90., 336.,  90.,  94.,  97.],\n",
       "       [ 98.,  90., 336.,  94.,  84.],\n",
       "       [ 85.,  94.,  94., 336.,  87.],\n",
       "       [ 94.,  97.,  84.,  87., 336.]])"
      ]
     },
     "execution_count": 115,
     "metadata": {},
     "output_type": "execute_result"
    }
   ],
   "source": [
    "np.sum(dna_array, 2) # 3rd dimension is the best option to figure out which 2 sequences matches the closest, we can see that all 336 nt matches when the sequences are matched against each other\n",
    "# ans to \"Can you find the 2 sequences that have the closest match to each other?\""
   ]
  },
  {
   "cell_type": "code",
   "execution_count": 119,
   "id": "6ef3a545-9423-42ca-b80c-fabaed0e170b",
   "metadata": {},
   "outputs": [
    {
     "data": {
      "text/plain": [
       "array([2., 2., 1., 2., 2.])"
      ]
     },
     "execution_count": 119,
     "metadata": {},
     "output_type": "execute_result"
    }
   ],
   "source": [
    "np.sum(dna_array [ :, : , 99], axis = 0) # How many sequences match at the first nucleotide, or the 100th"
   ]
  },
  {
   "cell_type": "code",
   "execution_count": 121,
   "id": "e715b59a-9aa0-47c8-b3f8-8edef6eef408",
   "metadata": {},
   "outputs": [
    {
     "data": {
      "text/plain": [
       "array([2., 2., 1., 2., 2.])"
      ]
     },
     "execution_count": 121,
     "metadata": {},
     "output_type": "execute_result"
    }
   ],
   "source": [
    "np.sum(dna_array [ :, : , 99], axis = 1)"
   ]
  },
  {
   "cell_type": "code",
   "execution_count": 125,
   "id": "550413a8-c969-4a1c-b5e0-716595fc3ac6",
   "metadata": {},
   "outputs": [
    {
     "ename": "AxisError",
     "evalue": "axis 2 is out of bounds for array of dimension 2",
     "output_type": "error",
     "traceback": [
      "\u001b[1;31m---------------------------------------------------------------------------\u001b[0m",
      "\u001b[1;31mAxisError\u001b[0m                                 Traceback (most recent call last)",
      "Cell \u001b[1;32mIn[125], line 1\u001b[0m\n\u001b[1;32m----> 1\u001b[0m np\u001b[38;5;241m.\u001b[39msum(dna_array [ :, : , \u001b[38;5;241m99\u001b[39m], axis \u001b[38;5;241m=\u001b[39m \u001b[38;5;241m2\u001b[39m)\n",
      "File \u001b[1;32mC:\\ProgramData\\anaconda3\\Lib\\site-packages\\numpy\\core\\fromnumeric.py:2313\u001b[0m, in \u001b[0;36msum\u001b[1;34m(a, axis, dtype, out, keepdims, initial, where)\u001b[0m\n\u001b[0;32m   2310\u001b[0m         \u001b[38;5;28;01mreturn\u001b[39;00m out\n\u001b[0;32m   2311\u001b[0m     \u001b[38;5;28;01mreturn\u001b[39;00m res\n\u001b[1;32m-> 2313\u001b[0m \u001b[38;5;28;01mreturn\u001b[39;00m _wrapreduction(a, np\u001b[38;5;241m.\u001b[39madd, \u001b[38;5;124m'\u001b[39m\u001b[38;5;124msum\u001b[39m\u001b[38;5;124m'\u001b[39m, axis, dtype, out, keepdims\u001b[38;5;241m=\u001b[39mkeepdims,\n\u001b[0;32m   2314\u001b[0m                       initial\u001b[38;5;241m=\u001b[39minitial, where\u001b[38;5;241m=\u001b[39mwhere)\n",
      "File \u001b[1;32mC:\\ProgramData\\anaconda3\\Lib\\site-packages\\numpy\\core\\fromnumeric.py:88\u001b[0m, in \u001b[0;36m_wrapreduction\u001b[1;34m(obj, ufunc, method, axis, dtype, out, **kwargs)\u001b[0m\n\u001b[0;32m     85\u001b[0m         \u001b[38;5;28;01melse\u001b[39;00m:\n\u001b[0;32m     86\u001b[0m             \u001b[38;5;28;01mreturn\u001b[39;00m reduction(axis\u001b[38;5;241m=\u001b[39maxis, out\u001b[38;5;241m=\u001b[39mout, \u001b[38;5;241m*\u001b[39m\u001b[38;5;241m*\u001b[39mpasskwargs)\n\u001b[1;32m---> 88\u001b[0m \u001b[38;5;28;01mreturn\u001b[39;00m ufunc\u001b[38;5;241m.\u001b[39mreduce(obj, axis, dtype, out, \u001b[38;5;241m*\u001b[39m\u001b[38;5;241m*\u001b[39mpasskwargs)\n",
      "\u001b[1;31mAxisError\u001b[0m: axis 2 is out of bounds for array of dimension 2"
     ]
    }
   ],
   "source": [
    "np.sum(dna_array [ :, : , 99], axis = 2)"
   ]
  },
  {
   "cell_type": "code",
   "execution_count": 123,
   "id": "ccc606de-c126-4a38-9e58-bbc8d473c6cb",
   "metadata": {},
   "outputs": [
    {
     "data": {
      "text/plain": [
       "array([5., 5., 5., 5., 5.])"
      ]
     },
     "execution_count": 123,
     "metadata": {},
     "output_type": "execute_result"
    }
   ],
   "source": [
    "np.sum(dna_array [ :, : , 0], axis = 0)"
   ]
  },
  {
   "cell_type": "code",
   "execution_count": 127,
   "id": "1e039b87-96ba-4633-8d07-d4ff5b9ba501",
   "metadata": {},
   "outputs": [],
   "source": [
    "import pandas as pd"
   ]
  },
  {
   "cell_type": "code",
   "execution_count": 131,
   "id": "f705ddca-42b3-44b5-8b49-7edd3c531160",
   "metadata": {},
   "outputs": [
    {
     "data": {
      "text/html": [
       "<div>\n",
       "<style scoped>\n",
       "    .dataframe tbody tr th:only-of-type {\n",
       "        vertical-align: middle;\n",
       "    }\n",
       "\n",
       "    .dataframe tbody tr th {\n",
       "        vertical-align: top;\n",
       "    }\n",
       "\n",
       "    .dataframe thead th {\n",
       "        text-align: right;\n",
       "    }\n",
       "</style>\n",
       "<table border=\"1\" class=\"dataframe\">\n",
       "  <thead>\n",
       "    <tr style=\"text-align: right;\">\n",
       "      <th></th>\n",
       "      <th>Names</th>\n",
       "      <th>Office</th>\n",
       "      <th>Department</th>\n",
       "    </tr>\n",
       "  </thead>\n",
       "  <tbody>\n",
       "    <tr>\n",
       "      <th>0</th>\n",
       "      <td>Mike</td>\n",
       "      <td>6.17</td>\n",
       "      <td>Immunology</td>\n",
       "    </tr>\n",
       "    <tr>\n",
       "      <th>1</th>\n",
       "      <td>Daniel</td>\n",
       "      <td>5.23</td>\n",
       "      <td>Neuroscience</td>\n",
       "    </tr>\n",
       "    <tr>\n",
       "      <th>2</th>\n",
       "      <td>Ellie</td>\n",
       "      <td>3.20</td>\n",
       "      <td>Developmental Biology</td>\n",
       "    </tr>\n",
       "    <tr>\n",
       "      <th>3</th>\n",
       "      <td>Heather</td>\n",
       "      <td>3.18</td>\n",
       "      <td>Immunology</td>\n",
       "    </tr>\n",
       "  </tbody>\n",
       "</table>\n",
       "</div>"
      ],
      "text/plain": [
       "     Names Office             Department\n",
       "0     Mike   6.17             Immunology\n",
       "1   Daniel   5.23           Neuroscience\n",
       "2    Ellie   3.20  Developmental Biology\n",
       "3  Heather   3.18             Immunology"
      ]
     },
     "execution_count": 131,
     "metadata": {},
     "output_type": "execute_result"
    }
   ],
   "source": [
    "phone_book = {\"Names\": [\"Mike\", \"Daniel\", \"Ellie\", \"Heather\"],\n",
    "             \"Office\": [\"6.17\", \"5.23\", \"3.20\", \"3.18\"],\n",
    "             \"Department\": [\"Immunology\", \"Neuroscience\", \"Developmental Biology\", \"Immunology\"]}\n",
    "pb_df = pd.DataFrame(phone_book)\n",
    "pb_df"
   ]
  },
  {
   "cell_type": "code",
   "execution_count": 149,
   "id": "b73aeb61-edf7-4616-829c-b5845fa4e9a7",
   "metadata": {},
   "outputs": [
    {
     "ename": "KeyError",
     "evalue": "\"None of ['Names'] are in the columns\"",
     "output_type": "error",
     "traceback": [
      "\u001b[1;31m---------------------------------------------------------------------------\u001b[0m",
      "\u001b[1;31mKeyError\u001b[0m                                  Traceback (most recent call last)",
      "\u001b[1;32m~\\AppData\\Local\\Temp\\ipykernel_12140\\2414559925.py\u001b[0m in \u001b[0;36m?\u001b[1;34m()\u001b[0m\n\u001b[1;32m----> 1\u001b[1;33m \u001b[0mpb_df\u001b[0m\u001b[1;33m.\u001b[0m\u001b[0mset_index\u001b[0m\u001b[1;33m(\u001b[0m\u001b[1;34m\"Names\"\u001b[0m\u001b[1;33m,\u001b[0m \u001b[0minplace\u001b[0m\u001b[1;33m=\u001b[0m\u001b[1;32mTrue\u001b[0m\u001b[1;33m)\u001b[0m\u001b[1;33m\u001b[0m\u001b[1;33m\u001b[0m\u001b[0m\n\u001b[0m",
      "\u001b[1;32mC:\\ProgramData\\anaconda3\\Lib\\site-packages\\pandas\\core\\frame.py\u001b[0m in \u001b[0;36m?\u001b[1;34m(self, keys, drop, append, inplace, verify_integrity)\u001b[0m\n\u001b[0;32m   5866\u001b[0m                     \u001b[1;32mif\u001b[0m \u001b[1;32mnot\u001b[0m \u001b[0mfound\u001b[0m\u001b[1;33m:\u001b[0m\u001b[1;33m\u001b[0m\u001b[1;33m\u001b[0m\u001b[0m\n\u001b[0;32m   5867\u001b[0m                         \u001b[0mmissing\u001b[0m\u001b[1;33m.\u001b[0m\u001b[0mappend\u001b[0m\u001b[1;33m(\u001b[0m\u001b[0mcol\u001b[0m\u001b[1;33m)\u001b[0m\u001b[1;33m\u001b[0m\u001b[1;33m\u001b[0m\u001b[0m\n\u001b[0;32m   5868\u001b[0m \u001b[1;33m\u001b[0m\u001b[0m\n\u001b[0;32m   5869\u001b[0m         \u001b[1;32mif\u001b[0m \u001b[0mmissing\u001b[0m\u001b[1;33m:\u001b[0m\u001b[1;33m\u001b[0m\u001b[1;33m\u001b[0m\u001b[0m\n\u001b[1;32m-> 5870\u001b[1;33m             \u001b[1;32mraise\u001b[0m \u001b[0mKeyError\u001b[0m\u001b[1;33m(\u001b[0m\u001b[1;34mf\"None of {missing} are in the columns\"\u001b[0m\u001b[1;33m)\u001b[0m\u001b[1;33m\u001b[0m\u001b[1;33m\u001b[0m\u001b[0m\n\u001b[0m\u001b[0;32m   5871\u001b[0m \u001b[1;33m\u001b[0m\u001b[0m\n\u001b[0;32m   5872\u001b[0m         \u001b[1;32mif\u001b[0m \u001b[0minplace\u001b[0m\u001b[1;33m:\u001b[0m\u001b[1;33m\u001b[0m\u001b[1;33m\u001b[0m\u001b[0m\n\u001b[0;32m   5873\u001b[0m             \u001b[0mframe\u001b[0m \u001b[1;33m=\u001b[0m \u001b[0mself\u001b[0m\u001b[1;33m\u001b[0m\u001b[1;33m\u001b[0m\u001b[0m\n",
      "\u001b[1;31mKeyError\u001b[0m: \"None of ['Names'] are in the columns\""
     ]
    }
   ],
   "source": [
    "pb_df.set_index(\"Names\", inplace=True)"
   ]
  },
  {
   "cell_type": "code",
   "execution_count": 133,
   "id": "36553be8-1142-46dc-91e2-a32e82ad987a",
   "metadata": {},
   "outputs": [
    {
     "data": {
      "text/plain": [
       "(4, 3)"
      ]
     },
     "execution_count": 133,
     "metadata": {},
     "output_type": "execute_result"
    }
   ],
   "source": [
    "pb_df.shape"
   ]
  },
  {
   "cell_type": "code",
   "execution_count": null,
   "id": "dde11500-be32-4a7f-a55e-1509648bb883",
   "metadata": {},
   "outputs": [],
   "source": []
  }
 ],
 "metadata": {
  "kernelspec": {
   "display_name": "Python 3 (ipykernel)",
   "language": "python",
   "name": "python3"
  },
  "language_info": {
   "codemirror_mode": {
    "name": "ipython",
    "version": 3
   },
   "file_extension": ".py",
   "mimetype": "text/x-python",
   "name": "python",
   "nbconvert_exporter": "python",
   "pygments_lexer": "ipython3",
   "version": "3.11.7"
  }
 },
 "nbformat": 4,
 "nbformat_minor": 5
}
