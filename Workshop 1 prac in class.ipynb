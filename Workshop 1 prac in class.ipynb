{
 "cells": [
  {
   "cell_type": "code",
   "execution_count": 3,
   "id": "d9da4f1e-f3f8-40db-a4a2-2e7191032df1",
   "metadata": {},
   "outputs": [],
   "source": [
    "x = 22"
   ]
  },
  {
   "cell_type": "code",
   "execution_count": 5,
   "id": "08f7d970-2f52-4496-8a9f-a274dc52e9f6",
   "metadata": {},
   "outputs": [],
   "source": [
    "my_name = \"Ovini\""
   ]
  },
  {
   "cell_type": "code",
   "execution_count": 9,
   "id": "b61e8d95-64c7-4b2b-a133-a50d54202ea7",
   "metadata": {},
   "outputs": [
    {
     "name": "stdout",
     "output_type": "stream",
     "text": [
      "my name is Ovini and I am 22 years old\n"
     ]
    }
   ],
   "source": [
    "print(\"my name is\", my_name, \"and I am\", x, \"years old\")"
   ]
  },
  {
   "cell_type": "code",
   "execution_count": 11,
   "id": "e100d74f-b6d4-49e2-b252-0d4b6d0b0d02",
   "metadata": {},
   "outputs": [
    {
     "data": {
      "text/plain": [
       "int"
      ]
     },
     "execution_count": 11,
     "metadata": {},
     "output_type": "execute_result"
    }
   ],
   "source": [
    "type(1)"
   ]
  },
  {
   "cell_type": "code",
   "execution_count": 15,
   "id": "ca823075-e034-4b31-b45e-d8890b6a5e02",
   "metadata": {},
   "outputs": [
    {
     "data": {
      "text/plain": [
       "str"
      ]
     },
     "execution_count": 15,
     "metadata": {},
     "output_type": "execute_result"
    }
   ],
   "source": [
    "type(\"ovini\")"
   ]
  },
  {
   "cell_type": "code",
   "execution_count": 17,
   "id": "92bda808-47d2-412a-af3d-66f7bf543cb0",
   "metadata": {},
   "outputs": [
    {
     "data": {
      "text/plain": [
       "float"
      ]
     },
     "execution_count": 17,
     "metadata": {},
     "output_type": "execute_result"
    }
   ],
   "source": [
    "type(1.43)"
   ]
  },
  {
   "cell_type": "code",
   "execution_count": 19,
   "id": "130b09d2-eeaa-484e-8021-07a1f276ca8b",
   "metadata": {},
   "outputs": [
    {
     "data": {
      "text/plain": [
       "bool"
      ]
     },
     "execution_count": 19,
     "metadata": {},
     "output_type": "execute_result"
    }
   ],
   "source": [
    "type(True)"
   ]
  },
  {
   "cell_type": "code",
   "execution_count": 21,
   "id": "ea8a597d-0d78-4cf4-9a14-821ea3e6aee5",
   "metadata": {},
   "outputs": [
    {
     "data": {
      "text/plain": [
       "bool"
      ]
     },
     "execution_count": 21,
     "metadata": {},
     "output_type": "execute_result"
    }
   ],
   "source": [
    "type(False)"
   ]
  },
  {
   "cell_type": "code",
   "execution_count": 23,
   "id": "3e486f56-4153-47be-9fa8-dc7478e1c2f5",
   "metadata": {},
   "outputs": [
    {
     "data": {
      "text/plain": [
       "(list, list, list)"
      ]
     },
     "execution_count": 23,
     "metadata": {},
     "output_type": "execute_result"
    }
   ],
   "source": [
    "number_list = [1, 4, 6, 8]\n",
    "string_list = [\"Mike\", \"Ellie\", \"Kim\", \"luna\"]\n",
    "mixed_list = [\"words\", 1, 4, \"and numbers mix\"]\n",
    "type(number_list), type(string_list), type(mixed_list)"
   ]
  },
  {
   "cell_type": "code",
   "execution_count": 34,
   "id": "6d7ab95b-edaf-4fa1-ae45-b8b3890d1fbe",
   "metadata": {},
   "outputs": [],
   "source": [
    "number_list.append(string_list)"
   ]
  },
  {
   "cell_type": "code",
   "execution_count": 36,
   "id": "748f8d70-8d8a-491e-afaf-b90ca6f9a0aa",
   "metadata": {},
   "outputs": [
    {
     "data": {
      "text/plain": [
       "[1,\n",
       " 4,\n",
       " 6,\n",
       " 8,\n",
       " ['Mike', 'Ellie', 'Kim', 'luna'],\n",
       " ['Mike', 'Ellie', 'Kim', 'luna'],\n",
       " ['Mike', 'Ellie', 'Kim', 'luna'],\n",
       " ['Mike', 'Ellie', 'Kim', 'luna']]"
      ]
     },
     "execution_count": 36,
     "metadata": {},
     "output_type": "execute_result"
    }
   ],
   "source": [
    "number_list"
   ]
  },
  {
   "cell_type": "code",
   "execution_count": 38,
   "id": "332b3ddf-11d4-4d13-afc9-a2a344757c96",
   "metadata": {},
   "outputs": [
    {
     "data": {
      "text/plain": [
       "[1,\n",
       " 4,\n",
       " 6,\n",
       " 8,\n",
       " ['Mike', 'Ellie', 'Kim', 'luna'],\n",
       " ['Mike', 'Ellie', 'Kim', 'luna'],\n",
       " ['Mike', 'Ellie', 'Kim', 'luna'],\n",
       " ['Mike', 'Ellie', 'Kim', 'luna'],\n",
       " ['Mike', 'Ellie', 'Kim', 'luna']]"
      ]
     },
     "execution_count": 38,
     "metadata": {},
     "output_type": "execute_result"
    }
   ],
   "source": [
    "number_list.append(string_list)\n",
    "number_list"
   ]
  },
  {
   "cell_type": "code",
   "execution_count": 40,
   "id": "57de7b8d-a36e-4143-b5bd-78cefb5bdee8",
   "metadata": {},
   "outputs": [
    {
     "data": {
      "text/plain": [
       "[1,\n",
       " 4,\n",
       " 6,\n",
       " 8,\n",
       " ['Mike', 'Ellie', 'Kim', 'luna'],\n",
       " ['Mike', 'Ellie', 'Kim', 'luna'],\n",
       " ['Mike', 'Ellie', 'Kim', 'luna'],\n",
       " ['Mike', 'Ellie', 'Kim', 'luna'],\n",
       " ['Mike', 'Ellie', 'Kim', 'luna'],\n",
       " ['Mike', 'Ellie', 'Kim', 'luna']]"
      ]
     },
     "execution_count": 40,
     "metadata": {},
     "output_type": "execute_result"
    }
   ],
   "source": [
    "number_list.append(string_list)\n",
    "number_list"
   ]
  },
  {
   "cell_type": "code",
   "execution_count": 42,
   "id": "3f1ffad0-b5d3-4101-9fbf-1b380c9a8fc7",
   "metadata": {},
   "outputs": [
    {
     "data": {
      "text/plain": [
       "[1,\n",
       " 4,\n",
       " 6,\n",
       " 8,\n",
       " ['Mike', 'Ellie', 'Kim', 'luna'],\n",
       " ['Mike', 'Ellie', 'Kim', 'luna'],\n",
       " ['Mike', 'Ellie', 'Kim', 'luna'],\n",
       " ['Mike', 'Ellie', 'Kim', 'luna'],\n",
       " ['Mike', 'Ellie', 'Kim', 'luna'],\n",
       " ['Mike', 'Ellie', 'Kim', 'luna'],\n",
       " ['Mike', 'Ellie', 'Kim', 'luna']]"
      ]
     },
     "execution_count": 42,
     "metadata": {},
     "output_type": "execute_result"
    }
   ],
   "source": [
    "number_list.append(string_list)\n",
    "number_list"
   ]
  },
  {
   "cell_type": "code",
   "execution_count": 44,
   "id": "dbf9712f-6047-4b76-b016-77ab1b1e168e",
   "metadata": {},
   "outputs": [
    {
     "data": {
      "text/plain": [
       "(4, 'apples', 'basket', 12)"
      ]
     },
     "execution_count": 44,
     "metadata": {},
     "output_type": "execute_result"
    }
   ],
   "source": [
    "my_tuple = (4, \"apples\", \"basket\", 12)\n",
    "my_tuple"
   ]
  },
  {
   "cell_type": "code",
   "execution_count": 46,
   "id": "82626171-fcc3-4be5-9bd2-29bc782cd823",
   "metadata": {},
   "outputs": [
    {
     "data": {
      "text/plain": [
       "tuple"
      ]
     },
     "execution_count": 46,
     "metadata": {},
     "output_type": "execute_result"
    }
   ],
   "source": [
    "type(my_tuple)"
   ]
  },
  {
   "cell_type": "code",
   "execution_count": 48,
   "id": "141dbd86-877c-482c-b9f6-291b627aa861",
   "metadata": {},
   "outputs": [
    {
     "data": {
      "text/plain": [
       "((4, 'apples', 'basket', 12), tuple)"
      ]
     },
     "execution_count": 48,
     "metadata": {},
     "output_type": "execute_result"
    }
   ],
   "source": [
    "my_tuple, type(my_tuple)"
   ]
  },
  {
   "cell_type": "code",
   "execution_count": 50,
   "id": "c8e14737-fc8a-46dc-abbb-dafe7c4492a7",
   "metadata": {},
   "outputs": [
    {
     "data": {
      "text/plain": [
       "(4, 'apples', 'basket', 12, 4, 'apples', 'basket', 12)"
      ]
     },
     "execution_count": 50,
     "metadata": {},
     "output_type": "execute_result"
    }
   ],
   "source": [
    "my_tuple + my_tuple"
   ]
  },
  {
   "cell_type": "code",
   "execution_count": 54,
   "id": "8187d460-836b-445e-b7c9-f21cabf2ca21",
   "metadata": {},
   "outputs": [
    {
     "data": {
      "text/plain": [
       "(4, 'apples', 'basket', 12, 4, 'apples', 'basket', 12)"
      ]
     },
     "execution_count": 54,
     "metadata": {},
     "output_type": "execute_result"
    }
   ],
   "source": [
    "my_tuple + my_tuple"
   ]
  },
  {
   "cell_type": "code",
   "execution_count": 56,
   "id": "dd06420c-35d7-45f5-903b-f78b2b6425e0",
   "metadata": {},
   "outputs": [
    {
     "ename": "AttributeError",
     "evalue": "'tuple' object has no attribute 'append'",
     "output_type": "error",
     "traceback": [
      "\u001b[1;31m---------------------------------------------------------------------------\u001b[0m",
      "\u001b[1;31mAttributeError\u001b[0m                            Traceback (most recent call last)",
      "Cell \u001b[1;32mIn[56], line 1\u001b[0m\n\u001b[1;32m----> 1\u001b[0m my_tuple\u001b[38;5;241m.\u001b[39mappend\n",
      "\u001b[1;31mAttributeError\u001b[0m: 'tuple' object has no attribute 'append'"
     ]
    }
   ],
   "source": [
    "my_tuple.append"
   ]
  },
  {
   "cell_type": "code",
   "execution_count": 58,
   "id": "ef1f8c53-040c-4278-9abc-eb0d9d8c1f3e",
   "metadata": {},
   "outputs": [
    {
     "data": {
      "text/plain": [
       "dict"
      ]
     },
     "execution_count": 58,
     "metadata": {},
     "output_type": "execute_result"
    }
   ],
   "source": [
    "phone_book = {\"Names\": [\"Mike\", \"Daniel\", \"Ellie\", \"Heather\"],\n",
    "              \"Office\" : [\"6.17\", \"5.23\", \"3.20\", \"3.18\"],\n",
    "              \"Department\" : [\"Immunology\", \"Neuroscience\", \"Development Biology\", \"Immunology\"]}\n",
    "type(phone_book)"
   ]
  },
  {
   "cell_type": "code",
   "execution_count": 60,
   "id": "9564477b-deba-4805-89ce-e81dd521f633",
   "metadata": {},
   "outputs": [
    {
     "data": {
      "text/plain": [
       "{'Names': ['Mike', 'Daniel', 'Ellie', 'Heather'],\n",
       " 'Office': ['6.17', '5.23', '3.20', '3.18'],\n",
       " 'Department': ['Immunology',\n",
       "  'Neuroscience',\n",
       "  'Development Biology',\n",
       "  'Immunology']}"
      ]
     },
     "execution_count": 60,
     "metadata": {},
     "output_type": "execute_result"
    }
   ],
   "source": [
    "phone_book"
   ]
  },
  {
   "cell_type": "code",
   "execution_count": 62,
   "id": "ae17bf0d-ec5f-4cf9-acb5-0c681c6f375c",
   "metadata": {},
   "outputs": [
    {
     "data": {
      "text/plain": [
       "4"
      ]
     },
     "execution_count": 62,
     "metadata": {},
     "output_type": "execute_result"
    }
   ],
   "source": [
    "1+3"
   ]
  },
  {
   "cell_type": "code",
   "execution_count": 64,
   "id": "fd16d6bb-9299-4ec2-b806-708994c20980",
   "metadata": {},
   "outputs": [
    {
     "data": {
      "text/plain": [
       "3"
      ]
     },
     "execution_count": 64,
     "metadata": {},
     "output_type": "execute_result"
    }
   ],
   "source": [
    "5-2"
   ]
  },
  {
   "cell_type": "code",
   "execution_count": 66,
   "id": "edd0f21a-4fb5-4d71-be3c-ceef03c6247d",
   "metadata": {},
   "outputs": [
    {
     "data": {
      "text/plain": [
       "27"
      ]
     },
     "execution_count": 66,
     "metadata": {},
     "output_type": "execute_result"
    }
   ],
   "source": [
    "x+5"
   ]
  },
  {
   "cell_type": "code",
   "execution_count": 68,
   "id": "be366da1-e32a-49cf-821e-d871960a49c4",
   "metadata": {},
   "outputs": [],
   "source": [
    "y=x+5"
   ]
  },
  {
   "cell_type": "code",
   "execution_count": 70,
   "id": "9c13393f-2c66-48e7-97b9-7f5ca4ba2ffd",
   "metadata": {},
   "outputs": [
    {
     "name": "stdout",
     "output_type": "stream",
     "text": [
      "27\n"
     ]
    }
   ],
   "source": [
    "print(y)"
   ]
  },
  {
   "cell_type": "code",
   "execution_count": 72,
   "id": "bb605d73-0fbc-4a3e-ad50-98502f980369",
   "metadata": {},
   "outputs": [
    {
     "data": {
      "text/plain": [
       "5"
      ]
     },
     "execution_count": 72,
     "metadata": {},
     "output_type": "execute_result"
    }
   ],
   "source": [
    "y-x"
   ]
  },
  {
   "cell_type": "code",
   "execution_count": 74,
   "id": "e22bffea-7f59-4944-9b92-1e774d1d64ee",
   "metadata": {},
   "outputs": [
    {
     "data": {
      "text/plain": [
       "4.5"
      ]
     },
     "execution_count": 74,
     "metadata": {},
     "output_type": "execute_result"
    }
   ],
   "source": [
    "1.5+3"
   ]
  },
  {
   "cell_type": "code",
   "execution_count": 76,
   "id": "e2d721b9-4334-4269-a3fb-cf3e0d3d2886",
   "metadata": {},
   "outputs": [
    {
     "data": {
      "text/plain": [
       "3.0"
      ]
     },
     "execution_count": 76,
     "metadata": {},
     "output_type": "execute_result"
    }
   ],
   "source": [
    "4.5 - 1.5"
   ]
  },
  {
   "cell_type": "code",
   "execution_count": 78,
   "id": "6ed23e25-6381-4620-8135-0bd58cae1701",
   "metadata": {},
   "outputs": [
    {
     "data": {
      "text/plain": [
       "6"
      ]
     },
     "execution_count": 78,
     "metadata": {},
     "output_type": "execute_result"
    }
   ],
   "source": [
    "3*2"
   ]
  },
  {
   "cell_type": "code",
   "execution_count": 80,
   "id": "ad7258a7-cd1d-4e2c-b7f7-cd94ef81bb20",
   "metadata": {},
   "outputs": [
    {
     "ename": "SyntaxError",
     "evalue": "invalid syntax (1418951104.py, line 1)",
     "output_type": "error",
     "traceback": [
      "\u001b[1;36m  Cell \u001b[1;32mIn[80], line 1\u001b[1;36m\u001b[0m\n\u001b[1;33m    3 x 2\u001b[0m\n\u001b[1;37m      ^\u001b[0m\n\u001b[1;31mSyntaxError\u001b[0m\u001b[1;31m:\u001b[0m invalid syntax\n"
     ]
    }
   ],
   "source": [
    "3 x 2"
   ]
  },
  {
   "cell_type": "code",
   "execution_count": 82,
   "id": "b92175d5-5713-454d-a78c-3bf0d2fb171d",
   "metadata": {},
   "outputs": [
    {
     "data": {
      "text/plain": [
       "3.0"
      ]
     },
     "execution_count": 82,
     "metadata": {},
     "output_type": "execute_result"
    }
   ],
   "source": [
    "6/2"
   ]
  },
  {
   "cell_type": "code",
   "execution_count": 84,
   "id": "d91f7476-1050-489f-9cfd-cc0a06284d16",
   "metadata": {},
   "outputs": [
    {
     "data": {
      "text/plain": [
       "3.0"
      ]
     },
     "execution_count": 84,
     "metadata": {},
     "output_type": "execute_result"
    }
   ],
   "source": [
    "6.0/2"
   ]
  },
  {
   "cell_type": "code",
   "execution_count": 86,
   "id": "108e5c96-ce74-4c9e-adbe-bc57cf7840af",
   "metadata": {},
   "outputs": [
    {
     "data": {
      "text/plain": [
       "3.0"
      ]
     },
     "execution_count": 86,
     "metadata": {},
     "output_type": "execute_result"
    }
   ],
   "source": [
    "6/2.0"
   ]
  },
  {
   "cell_type": "code",
   "execution_count": 88,
   "id": "c0a7493c-7653-4d72-97b9-6fddc1e1c4af",
   "metadata": {},
   "outputs": [
    {
     "data": {
      "text/plain": [
       "True"
      ]
     },
     "execution_count": 88,
     "metadata": {},
     "output_type": "execute_result"
    }
   ],
   "source": [
    "x = 4\n",
    "x == 4"
   ]
  },
  {
   "cell_type": "code",
   "execution_count": 90,
   "id": "acd99e8b-e9ec-4add-9f7e-c8793f548149",
   "metadata": {},
   "outputs": [],
   "source": [
    "y = 2*2"
   ]
  },
  {
   "cell_type": "code",
   "execution_count": 92,
   "id": "bc22ca00-98cd-48cf-ab00-7335691f967c",
   "metadata": {},
   "outputs": [
    {
     "data": {
      "text/plain": [
       "True"
      ]
     },
     "execution_count": 92,
     "metadata": {},
     "output_type": "execute_result"
    }
   ],
   "source": [
    "x == y"
   ]
  },
  {
   "cell_type": "code",
   "execution_count": 94,
   "id": "25acb599-61bd-4a3a-b5e2-fcaabcb64492",
   "metadata": {},
   "outputs": [
    {
     "data": {
      "text/plain": [
       "1.0"
      ]
     },
     "execution_count": 94,
     "metadata": {},
     "output_type": "execute_result"
    }
   ],
   "source": [
    "x/y"
   ]
  },
  {
   "cell_type": "code",
   "execution_count": 96,
   "id": "09c039a7-bb2a-4ec2-9860-5e78e550c74a",
   "metadata": {},
   "outputs": [
    {
     "data": {
      "text/plain": [
       "'add thisand this'"
      ]
     },
     "execution_count": 96,
     "metadata": {},
     "output_type": "execute_result"
    }
   ],
   "source": [
    "\"add this\" + \"and this\""
   ]
  },
  {
   "cell_type": "code",
   "execution_count": 98,
   "id": "c4fe2852-fc95-4b12-95b6-f9003a452a01",
   "metadata": {},
   "outputs": [
    {
     "data": {
      "text/plain": [
       "'add this  and this'"
      ]
     },
     "execution_count": 98,
     "metadata": {},
     "output_type": "execute_result"
    }
   ],
   "source": [
    "\"add this\" + \" \" + \" and this\""
   ]
  },
  {
   "cell_type": "code",
   "execution_count": 100,
   "id": "36de7c1c-66f0-4cdf-8ff1-a0fac2c3279f",
   "metadata": {},
   "outputs": [
    {
     "data": {
      "text/plain": [
       "'add this and this'"
      ]
     },
     "execution_count": 100,
     "metadata": {},
     "output_type": "execute_result"
    }
   ],
   "source": [
    "\"add this\" + \"\" + \" and this\""
   ]
  },
  {
   "cell_type": "code",
   "execution_count": 102,
   "id": "74bebb52-8412-4d06-9115-288ada190b81",
   "metadata": {},
   "outputs": [
    {
     "ename": "TypeError",
     "evalue": "unsupported operand type(s) for -: 'str' and 'str'",
     "output_type": "error",
     "traceback": [
      "\u001b[1;31m---------------------------------------------------------------------------\u001b[0m",
      "\u001b[1;31mTypeError\u001b[0m                                 Traceback (most recent call last)",
      "Cell \u001b[1;32mIn[102], line 1\u001b[0m\n\u001b[1;32m----> 1\u001b[0m \u001b[38;5;124m\"\u001b[39m\u001b[38;5;124msubtract this \u001b[39m\u001b[38;5;124m\"\u001b[39m \u001b[38;5;241m-\u001b[39m \u001b[38;5;124m\"\u001b[39m\u001b[38;5;124m from this\u001b[39m\u001b[38;5;124m\"\u001b[39m\n",
      "\u001b[1;31mTypeError\u001b[0m: unsupported operand type(s) for -: 'str' and 'str'"
     ]
    }
   ],
   "source": [
    "\"subtract this \" - \" from this\""
   ]
  },
  {
   "cell_type": "code",
   "execution_count": 104,
   "id": "417809a4-dcd4-4cf6-8c60-034f704763d6",
   "metadata": {},
   "outputs": [
    {
     "ename": "TypeError",
     "evalue": "can't multiply sequence by non-int of type 'str'",
     "output_type": "error",
     "traceback": [
      "\u001b[1;31m---------------------------------------------------------------------------\u001b[0m",
      "\u001b[1;31mTypeError\u001b[0m                                 Traceback (most recent call last)",
      "Cell \u001b[1;32mIn[104], line 1\u001b[0m\n\u001b[1;32m----> 1\u001b[0m \u001b[38;5;124m\"\u001b[39m\u001b[38;5;124mmultiply this \u001b[39m\u001b[38;5;124m\"\u001b[39m \u001b[38;5;241m*\u001b[39m \u001b[38;5;124m\"\u001b[39m\u001b[38;5;124mby this\u001b[39m\u001b[38;5;124m\"\u001b[39m\n",
      "\u001b[1;31mTypeError\u001b[0m: can't multiply sequence by non-int of type 'str'"
     ]
    }
   ],
   "source": [
    "\"multiply this \" * \"by this\""
   ]
  },
  {
   "cell_type": "code",
   "execution_count": 106,
   "id": "e42899df-572f-4df3-b20f-ba9b5317f2fc",
   "metadata": {},
   "outputs": [
    {
     "ename": "TypeError",
     "evalue": "unsupported operand type(s) for /: 'str' and 'str'",
     "output_type": "error",
     "traceback": [
      "\u001b[1;31m---------------------------------------------------------------------------\u001b[0m",
      "\u001b[1;31mTypeError\u001b[0m                                 Traceback (most recent call last)",
      "Cell \u001b[1;32mIn[106], line 1\u001b[0m\n\u001b[1;32m----> 1\u001b[0m \u001b[38;5;124m\"\u001b[39m\u001b[38;5;124mdivide this \u001b[39m\u001b[38;5;124m\"\u001b[39m \u001b[38;5;241m/\u001b[39m \u001b[38;5;124m\"\u001b[39m\u001b[38;5;124m by this\u001b[39m\u001b[38;5;124m\"\u001b[39m\n",
      "\u001b[1;31mTypeError\u001b[0m: unsupported operand type(s) for /: 'str' and 'str'"
     ]
    }
   ],
   "source": [
    "\"divide this \" / \" by this\""
   ]
  },
  {
   "cell_type": "code",
   "execution_count": 108,
   "id": "21bc0cb8-7e6b-4d52-988f-26fb2459b445",
   "metadata": {},
   "outputs": [
    {
     "data": {
      "text/plain": [
       "'repeat me repeat me repeat me '"
      ]
     },
     "execution_count": 108,
     "metadata": {},
     "output_type": "execute_result"
    }
   ],
   "source": [
    "\"repeat me \" * 3"
   ]
  },
  {
   "cell_type": "code",
   "execution_count": 2,
   "id": "87fb6488-ed57-4f68-8753-6d5a99ad11b2",
   "metadata": {},
   "outputs": [
    {
     "data": {
      "text/plain": [
       "2"
      ]
     },
     "execution_count": 2,
     "metadata": {},
     "output_type": "execute_result"
    }
   ],
   "source": [
    "True + True"
   ]
  },
  {
   "cell_type": "code",
   "execution_count": 4,
   "id": "bdd80f13-4b15-45a7-9349-830ab9a64b70",
   "metadata": {},
   "outputs": [
    {
     "data": {
      "text/plain": [
       "-1"
      ]
     },
     "execution_count": 4,
     "metadata": {},
     "output_type": "execute_result"
    }
   ],
   "source": [
    "False - True"
   ]
  },
  {
   "cell_type": "code",
   "execution_count": 16,
   "id": "002708a4-68b8-4d3d-8acd-22425cdce837",
   "metadata": {},
   "outputs": [
    {
     "name": "stdout",
     "output_type": "stream",
     "text": [
      "Howdy Mike\n"
     ]
    }
   ],
   "source": [
    "my_name = \"Mike\"\n",
    "#my_name = \"Julie\"\n",
    "\n",
    "if my_name == \"Mike\":\n",
    "    print(\"Howdy \" + my_name)\n",
    "else:\n",
    "    print(\"Nice to meet you \" + my_name)"
   ]
  },
  {
   "cell_type": "code",
   "execution_count": 18,
   "id": "3ce4c94b-a135-4add-ba97-7c179d9d41cd",
   "metadata": {},
   "outputs": [
    {
     "name": "stdout",
     "output_type": "stream",
     "text": [
      "We haven't met - what is your name?\n"
     ]
    }
   ],
   "source": [
    "if my_name == \"John\":\n",
    "    print(\"Welcome \" + my_name)\n",
    "elif my_name == \"Sandra\":\n",
    "    print(\"Lovely to meet you \" + my_name)\n",
    "else:\n",
    "    print(\"We haven't met - what is your name?\")"
   ]
  },
  {
   "cell_type": "code",
   "execution_count": 20,
   "id": "b46ffe3e-6a8b-4b6f-b7e3-38010359f022",
   "metadata": {},
   "outputs": [
    {
     "name": "stdout",
     "output_type": "stream",
     "text": [
      "0\n",
      "1\n",
      "4\n",
      "9\n",
      "16\n",
      "25\n",
      "36\n",
      "49\n",
      "64\n",
      "81\n",
      "100\n",
      "121\n",
      "144\n",
      "169\n",
      "196\n",
      "225\n",
      "256\n",
      "289\n",
      "324\n",
      "361\n",
      "400\n",
      "441\n",
      "484\n",
      "529\n",
      "576\n",
      "625\n",
      "676\n",
      "729\n",
      "784\n",
      "841\n",
      "900\n",
      "961\n",
      "1024\n",
      "1089\n",
      "1156\n",
      "1225\n",
      "1296\n",
      "1369\n",
      "1444\n",
      "1521\n",
      "1600\n",
      "1681\n",
      "1764\n",
      "1849\n",
      "1936\n",
      "2025\n",
      "2116\n",
      "2209\n",
      "2304\n",
      "2401\n"
     ]
    }
   ],
   "source": [
    "for x in range(50):\n",
    "    print(x ** 2)"
   ]
  },
  {
   "cell_type": "code",
   "execution_count": 22,
   "id": "e533c7dd-cc53-4518-8207-03b9c47afb63",
   "metadata": {},
   "outputs": [
    {
     "name": "stdout",
     "output_type": "stream",
     "text": [
      " Mike is an awesome programmer\n"
     ]
    }
   ],
   "source": [
    "string_list = [\"Mike\", \"is\", \"an\", \"awesome\", \"programmer\"]\n",
    "\n",
    "concat = \"\"\n",
    "for mystring in string_list:\n",
    "    concat = concat + \" \" + mystring\n",
    "    \n",
    "print(concat)"
   ]
  },
  {
   "cell_type": "code",
   "execution_count": 24,
   "id": "f16819c0-b794-4b18-9809-c41cb78e0a0f",
   "metadata": {},
   "outputs": [
    {
     "name": "stdout",
     "output_type": "stream",
     "text": [
      "0\n",
      "1\n",
      "2\n",
      "3\n",
      "4\n",
      "5\n",
      "6\n",
      "7\n",
      "8\n",
      "9\n",
      "20\n"
     ]
    }
   ],
   "source": [
    "number_adder = 0\n",
    "\n",
    "while number_adder < 10:\n",
    "    print(number_adder)\n",
    "    number_adder += 1\n",
    "    \n",
    "print(number_adder*2)"
   ]
  },
  {
   "cell_type": "code",
   "execution_count": null,
   "id": "f37dccf4-4e07-4433-90de-5c7058ebaa12",
   "metadata": {},
   "outputs": [],
   "source": [
    "number_adder = 0\n",
    "threshold = -10\n",
    "while number_adder >= threshold:\n",
    "    number_adder += 1\n",
    "    \n",
    "print(number_adder*2)"
   ]
  },
  {
   "cell_type": "code",
   "execution_count": null,
   "id": "0a14c586-6ba2-4fb6-a4c6-2c0d646f4d6c",
   "metadata": {},
   "outputs": [],
   "source": [
    "def squareFunction(last_number):\n",
    "    '''\n",
    "    A function to compute the square of a number\n",
    "    '''\n",
    "    \n",
    "    number_list = []\n",
    "    for x in range(last_number):\n",
    "        number_list.append(x ** 2)\n",
    "    \n",
    "    return(number_list)"
   ]
  },
  {
   "cell_type": "code",
   "execution_count": null,
   "id": "4a53e06e-bb56-442e-ac05-1a58fa3c4a68",
   "metadata": {},
   "outputs": [],
   "source": [
    "squareFunction(50)"
   ]
  },
  {
   "cell_type": "code",
   "execution_count": null,
   "id": "0c1d510c-7936-447f-841e-0fd8b362a96e",
   "metadata": {},
   "outputs": [],
   "source": [
    "string_list = [\"Mike\", \"is\", \"an\", \"awesome\", \"programmer\"]\n",
    "join_my_string = \" \".join(string_list) # remember how we did this with a for loop earlier?\n",
    "join_my_string"
   ]
  },
  {
   "cell_type": "code",
   "execution_count": null,
   "id": "549f7567-14b5-4714-948e-149e2305e6e4",
   "metadata": {},
   "outputs": [],
   "source": []
  }
 ],
 "metadata": {
  "kernelspec": {
   "display_name": "Python 3 (ipykernel)",
   "language": "python",
   "name": "python3"
  },
  "language_info": {
   "codemirror_mode": {
    "name": "ipython",
    "version": 3
   },
   "file_extension": ".py",
   "mimetype": "text/x-python",
   "name": "python",
   "nbconvert_exporter": "python",
   "pygments_lexer": "ipython3",
   "version": "3.11.7"
  }
 },
 "nbformat": 4,
 "nbformat_minor": 5
}
